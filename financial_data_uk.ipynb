{
 "cells": [
  {
   "cell_type": "code",
   "execution_count": 1,
   "id": "2f60f642-2e6d-447b-9d33-d470d7e0fa32",
   "metadata": {},
   "outputs": [],
   "source": [
    "import requests as rq\n",
    "from bs4 import BeautifulSoup as bs"
   ]
  },
  {
   "cell_type": "code",
   "execution_count": 2,
   "id": "d0dcd7f2-1816-4d39-afbf-2c98bd3f9302",
   "metadata": {},
   "outputs": [],
   "source": [
    "url = rq.get('https://uk.finance.yahoo.com/most-active/')"
   ]
  },
  {
   "cell_type": "code",
   "execution_count": 3,
   "id": "5306bd4e-a733-4960-9bf0-7388c842e975",
   "metadata": {},
   "outputs": [
    {
     "data": {
      "text/plain": [
       "200"
      ]
     },
     "execution_count": 3,
     "metadata": {},
     "output_type": "execute_result"
    }
   ],
   "source": [
    "url.status_code"
   ]
  },
  {
   "cell_type": "code",
   "execution_count": 5,
   "id": "73353143-bb0a-4f16-8d8b-1c602116bfb3",
   "metadata": {},
   "outputs": [],
   "source": [
    "response = url.text"
   ]
  },
  {
   "cell_type": "code",
   "execution_count": 6,
   "id": "ec72fbcd-f7b1-47d9-b295-fb6f04f2625c",
   "metadata": {},
   "outputs": [
    {
     "name": "stdout",
     "output_type": "stream",
     "text": [
      "968073\n"
     ]
    }
   ],
   "source": [
    "print(len(response))"
   ]
  },
  {
   "cell_type": "code",
   "execution_count": 8,
   "id": "60001730-9a58-4014-ac01-211319c46198",
   "metadata": {},
   "outputs": [],
   "source": [
    "page_info = bs(response, 'html.parser')"
   ]
  },
  {
   "cell_type": "code",
   "execution_count": 9,
   "id": "7c1ddf8a-f3ca-4c6f-a048-a9b30c5ce248",
   "metadata": {},
   "outputs": [],
   "source": [
    "tickers = page_info.find_all('a', 'Fw(600) C($linkColor)')"
   ]
  },
  {
   "cell_type": "code",
   "execution_count": 10,
   "id": "7bdc2c8d-2c03-46f2-8adf-b7a784350342",
   "metadata": {},
   "outputs": [
    {
     "data": {
      "text/plain": [
       "[<a class=\"Fw(600) C($linkColor)\" data-reactid=\"79\" data-test=\"quoteLink\" href=\"/quote/3LRR.L?p=3LRR.L\" title=\"GraniteShares 3x Long Rolls-Royce Daily ETC\">3LRR.L</a>,\n",
       " <a class=\"Fw(600) C($linkColor)\" data-reactid=\"111\" data-test=\"quoteLink\" href=\"/quote/SYME.L?p=SYME.L\" title=\"Supply@ME Capital plc\">SYME.L</a>,\n",
       " <a class=\"Fw(600) C($linkColor)\" data-reactid=\"143\" data-test=\"quoteLink\" href=\"/quote/LLOY.L?p=LLOY.L\" title=\"Lloyds Banking Group plc\">LLOY.L</a>,\n",
       " <a class=\"Fw(600) C($linkColor)\" data-reactid=\"175\" data-test=\"quoteLink\" href=\"/quote/NNN.L?p=NNN.L\" title=\"Nanosynth Group Plc\">NNN.L</a>,\n",
       " <a class=\"Fw(600) C($linkColor)\" data-reactid=\"207\" data-test=\"quoteLink\" href=\"/quote/BOIL.L?p=BOIL.L\" title=\"Baron Oil Plc\">BOIL.L</a>]"
      ]
     },
     "execution_count": 10,
     "metadata": {},
     "output_type": "execute_result"
    }
   ],
   "source": [
    "tickers[:5]"
   ]
  },
  {
   "cell_type": "code",
   "execution_count": 11,
   "id": "92489818-aa40-44fa-9793-e575a627b432",
   "metadata": {},
   "outputs": [],
   "source": [
    "all_tickers = [stock_name.text for stock_name in tickers]"
   ]
  },
  {
   "cell_type": "code",
   "execution_count": 12,
   "id": "c3b027dc-566d-4c75-8f6e-a4a3567bb1fa",
   "metadata": {},
   "outputs": [
    {
     "data": {
      "text/plain": [
       "['3LRR.L',\n",
       " 'SYME.L',\n",
       " 'LLOY.L',\n",
       " 'NNN.L',\n",
       " 'BOIL.L',\n",
       " 'RBD.L',\n",
       " 'PREM.L',\n",
       " 'BLU.L',\n",
       " 'INSP.L',\n",
       " 'ORCP.L',\n",
       " 'MSMN.L',\n",
       " 'GST.L',\n",
       " 'RR.L',\n",
       " 'KOD.L',\n",
       " 'MDZ.L',\n",
       " 'IAG.L',\n",
       " 'SOU.L',\n",
       " 'GDR.L',\n",
       " 'BP.L',\n",
       " 'QBT.L',\n",
       " 'MOS.L',\n",
       " '0H6I.IL',\n",
       " 'VOD.L',\n",
       " 'ADV.L',\n",
       " 'MSYS.L']"
      ]
     },
     "execution_count": 12,
     "metadata": {},
     "output_type": "execute_result"
    }
   ],
   "source": [
    "all_tickers"
   ]
  },
  {
   "cell_type": "markdown",
   "id": "6d649e6f-f57f-43da-9746-14b318fdf71e",
   "metadata": {},
   "source": [
    "### Company's name"
   ]
  },
  {
   "cell_type": "code",
   "execution_count": 23,
   "id": "64f0f427-fabe-4e11-86d2-0e3c4e67746f",
   "metadata": {},
   "outputs": [],
   "source": [
    "company = page_info.find_all('td', 'Va(m) Ta(start) Px(10px) Fz(s)')"
   ]
  },
  {
   "cell_type": "code",
   "execution_count": 17,
   "id": "5230e7ef-09e8-49e5-bd7d-6f1a98e739c8",
   "metadata": {},
   "outputs": [],
   "source": [
    "company1 = page_info.find_all('td', {'aria-label':'Name'})"
   ]
  },
  {
   "cell_type": "code",
   "execution_count": 18,
   "id": "f82f6d82-6142-4070-a168-4776a9bd21a4",
   "metadata": {},
   "outputs": [],
   "source": [
    "all_companies1 = [company_name1.text for company_name1 in company1]"
   ]
  },
  {
   "cell_type": "code",
   "execution_count": 19,
   "id": "8244e257-d1d6-420f-8e0f-1c2c7ddc5739",
   "metadata": {},
   "outputs": [
    {
     "data": {
      "text/plain": [
       "['GraniteShares 3x Long Rolls-Royce Daily ETC',\n",
       " 'Supply@ME Capital plc',\n",
       " 'Lloyds Banking Group plc',\n",
       " 'Nanosynth Group Plc',\n",
       " 'Baron Oil Plc',\n",
       " 'Reabold Resources plc',\n",
       " 'Premier African Minerals Limited',\n",
       " 'Blue Star Capital plc',\n",
       " 'Inspirit Energy Holdings Plc',\n",
       " 'Oracle Power PLC',\n",
       " 'Mosman Oil And Gas Limited',\n",
       " 'GSTechnologies Ltd.',\n",
       " 'Rolls-Royce Holdings plc',\n",
       " 'Kodal Minerals Plc',\n",
       " 'Mediazest PLC',\n",
       " 'International Consolidated Airlines Group, S.A.',\n",
       " 'Sound Energy plc',\n",
       " 'genedrive plc',\n",
       " 'BP p.l.c.',\n",
       " 'Quantum Blockchain Technologies Plc',\n",
       " 'Mobile Streams Plc',\n",
       " 'Telecom Italia S.p.A.',\n",
       " 'Vodafone Group Plc',\n",
       " 'Advance Energy Plc',\n",
       " 'Microsaic Systems plc']"
      ]
     },
     "execution_count": 19,
     "metadata": {},
     "output_type": "execute_result"
    }
   ],
   "source": [
    "all_companies1"
   ]
  },
  {
   "cell_type": "code",
   "execution_count": 24,
   "id": "5b481cd4-b1f7-4667-9972-6d5cae2e065d",
   "metadata": {},
   "outputs": [],
   "source": [
    "all_companies = [company_name.text for company_name in company]"
   ]
  },
  {
   "cell_type": "code",
   "execution_count": 25,
   "id": "ac06778a-8b75-4ce3-a969-39f292e621a7",
   "metadata": {},
   "outputs": [
    {
     "data": {
      "text/plain": [
       "['GraniteShares 3x Long Rolls-Royce Daily ETC',\n",
       " 'Supply@ME Capital plc',\n",
       " 'Lloyds Banking Group plc',\n",
       " 'Nanosynth Group Plc',\n",
       " 'Baron Oil Plc',\n",
       " 'Reabold Resources plc',\n",
       " 'Premier African Minerals Limited',\n",
       " 'Blue Star Capital plc',\n",
       " 'Inspirit Energy Holdings Plc',\n",
       " 'Oracle Power PLC',\n",
       " 'Mosman Oil And Gas Limited',\n",
       " 'GSTechnologies Ltd.',\n",
       " 'Rolls-Royce Holdings plc',\n",
       " 'Kodal Minerals Plc',\n",
       " 'Mediazest PLC',\n",
       " 'International Consolidated Airlines Group, S.A.',\n",
       " 'Sound Energy plc',\n",
       " 'genedrive plc',\n",
       " 'BP p.l.c.',\n",
       " 'Quantum Blockchain Technologies Plc',\n",
       " 'Mobile Streams Plc',\n",
       " 'Telecom Italia S.p.A.',\n",
       " 'Vodafone Group Plc',\n",
       " 'Advance Energy Plc',\n",
       " 'Microsaic Systems plc']"
      ]
     },
     "execution_count": 25,
     "metadata": {},
     "output_type": "execute_result"
    }
   ],
   "source": [
    "all_companies"
   ]
  },
  {
   "cell_type": "markdown",
   "id": "613cf5e0-e21c-40ff-bb5f-ac7378aa9ec4",
   "metadata": {},
   "source": [
    "### Price"
   ]
  },
  {
   "cell_type": "code",
   "execution_count": 27,
   "id": "2e25a21d-e2a7-4a30-982d-83ffad0f8586",
   "metadata": {},
   "outputs": [],
   "source": [
    "\n",
    "price = page_info.find_all('td', {'aria-label':'Price (intraday)'})"
   ]
  },
  {
   "cell_type": "code",
   "execution_count": 28,
   "id": "58d1beaa-6f90-45bd-89dd-008ece1919b4",
   "metadata": {},
   "outputs": [],
   "source": [
    "all_prices = [stock_price.text for stock_price in price]"
   ]
  },
  {
   "cell_type": "code",
   "execution_count": 30,
   "id": "a1669153-2eb6-489d-a669-fea990e85f53",
   "metadata": {},
   "outputs": [
    {
     "data": {
      "text/plain": [
       "['1.0100',\n",
       " '0.1400',\n",
       " '46.90',\n",
       " '0.6240',\n",
       " '0.0600',\n",
       " '0.1436',\n",
       " '0.1870',\n",
       " '0.1860',\n",
       " '0.0440',\n",
       " '0.3300',\n",
       " '0.1048',\n",
       " '2.3875',\n",
       " '124.84',\n",
       " '0.2780',\n",
       " '0.0825',\n",
       " '130.10',\n",
       " '1.4200',\n",
       " '39.38',\n",
       " '324.65',\n",
       " '3.0250',\n",
       " '0.3900',\n",
       " '0.4635',\n",
       " '109.59',\n",
       " '3.9430',\n",
       " '0.1600']"
      ]
     },
     "execution_count": 30,
     "metadata": {},
     "output_type": "execute_result"
    }
   ],
   "source": [
    "all_prices"
   ]
  },
  {
   "cell_type": "code",
   "execution_count": null,
   "id": "b352c55b-26b3-4232-94ce-ef149f77005a",
   "metadata": {},
   "outputs": [],
   "source": []
  }
 ],
 "metadata": {
  "kernelspec": {
   "display_name": "Python 3",
   "language": "python",
   "name": "python3"
  },
  "language_info": {
   "codemirror_mode": {
    "name": "ipython",
    "version": 3
   },
   "file_extension": ".py",
   "mimetype": "text/x-python",
   "name": "python",
   "nbconvert_exporter": "python",
   "pygments_lexer": "ipython3",
   "version": "3.9.5"
  }
 },
 "nbformat": 4,
 "nbformat_minor": 5
}
