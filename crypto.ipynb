{
 "cells": [
  {
   "cell_type": "code",
   "execution_count": 1,
   "id": "b7675b36-408a-4b82-81bd-0bbb8bf27eb8",
   "metadata": {},
   "outputs": [],
   "source": [
    "import requests as rq\n",
    "from bs4 import BeautifulSoup as bs"
   ]
  },
  {
   "cell_type": "code",
   "execution_count": 2,
   "id": "14aa9bc1-43cf-4368-96c2-9406fecb3ab8",
   "metadata": {},
   "outputs": [],
   "source": [
    "url = rq.get('https://finance.yahoo.com/cryptocurrencies/')"
   ]
  },
  {
   "cell_type": "code",
   "execution_count": 3,
   "id": "f172be3d-fabf-4c74-a27b-5b12d2c41752",
   "metadata": {},
   "outputs": [
    {
     "data": {
      "text/plain": [
       "200"
      ]
     },
     "execution_count": 3,
     "metadata": {},
     "output_type": "execute_result"
    }
   ],
   "source": [
    "url.status_code"
   ]
  },
  {
   "cell_type": "code",
   "execution_count": 7,
   "id": "a5153233-3cb8-4462-9dfa-a2c0cb4faaeb",
   "metadata": {},
   "outputs": [],
   "source": [
    "response = url.text"
   ]
  },
  {
   "cell_type": "code",
   "execution_count": 8,
   "id": "ed1341f9-5621-4dc0-b43e-335fa8e60791",
   "metadata": {},
   "outputs": [
    {
     "name": "stdout",
     "output_type": "stream",
     "text": [
      "937385\n"
     ]
    }
   ],
   "source": [
    "print(len(response))"
   ]
  },
  {
   "cell_type": "code",
   "execution_count": 9,
   "id": "724567b5-baac-4596-824c-2ea23ca4c528",
   "metadata": {},
   "outputs": [],
   "source": [
    "url_page = bs(response, 'html.parser')"
   ]
  },
  {
   "cell_type": "code",
   "execution_count": 10,
   "id": "c8abeb99-a2fa-428b-8922-a4a122eff121",
   "metadata": {},
   "outputs": [],
   "source": [
    "crypto_tickers = url_page.find_all('a', 'Fw(600) C($linkColor)')"
   ]
  },
  {
   "cell_type": "code",
   "execution_count": 12,
   "id": "04dab532-31f3-4312-a88e-99034f51d55a",
   "metadata": {},
   "outputs": [],
   "source": [
    "all_tickers = [crypt.text for crypt in crypto_tickers]"
   ]
  },
  {
   "cell_type": "code",
   "execution_count": 13,
   "id": "ebe449a8-ec9a-4d41-a22b-30cd375ed14d",
   "metadata": {},
   "outputs": [
    {
     "data": {
      "text/plain": [
       "['BTC-USD',\n",
       " 'ETH-USD',\n",
       " 'BNB-USD',\n",
       " 'USDT-USD',\n",
       " 'SOL1-USD',\n",
       " 'ADA-USD',\n",
       " 'XRP-USD',\n",
       " 'USDC-USD',\n",
       " 'DOT1-USD',\n",
       " 'HEX-USD',\n",
       " 'DOGE-USD',\n",
       " 'AVAX-USD',\n",
       " 'LUNA1-USD',\n",
       " 'SHIB-USD',\n",
       " 'CRO-USD',\n",
       " 'MATIC-USD',\n",
       " 'LTC-USD',\n",
       " 'UNI3-USD',\n",
       " 'ALGO-USD',\n",
       " 'LINK-USD',\n",
       " 'BCH-USD',\n",
       " 'AXS-USD',\n",
       " 'XLM-USD',\n",
       " 'MANA-USD',\n",
       " 'VET-USD']"
      ]
     },
     "execution_count": 13,
     "metadata": {},
     "output_type": "execute_result"
    }
   ],
   "source": [
    "all_tickers"
   ]
  },
  {
   "cell_type": "code",
   "execution_count": null,
   "id": "984e0114-32ff-4cb3-90ce-e8231a535662",
   "metadata": {},
   "outputs": [],
   "source": []
  }
 ],
 "metadata": {
  "kernelspec": {
   "display_name": "Python 3",
   "language": "python",
   "name": "python3"
  },
  "language_info": {
   "codemirror_mode": {
    "name": "ipython",
    "version": 3
   },
   "file_extension": ".py",
   "mimetype": "text/x-python",
   "name": "python",
   "nbconvert_exporter": "python",
   "pygments_lexer": "ipython3",
   "version": "3.9.5"
  }
 },
 "nbformat": 4,
 "nbformat_minor": 5
}
