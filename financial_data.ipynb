{
 "cells": [
  {
   "cell_type": "code",
   "execution_count": 1,
   "id": "4502de21-516e-4fda-bf79-c594c53430b8",
   "metadata": {},
   "outputs": [],
   "source": [
    "import requests as rq\n",
    "from bs4 import BeautifulSoup as bs"
   ]
  },
  {
   "cell_type": "code",
   "execution_count": 2,
   "id": "6e578ee0-862c-4d91-b0de-fe73b31f6038",
   "metadata": {},
   "outputs": [],
   "source": [
    "url = rq.get('https://finance.yahoo.com/most-active')"
   ]
  },
  {
   "cell_type": "code",
   "execution_count": 3,
   "id": "c34c3f63-4638-4d7c-a616-268b839033fe",
   "metadata": {},
   "outputs": [
    {
     "data": {
      "text/plain": [
       "200"
      ]
     },
     "execution_count": 3,
     "metadata": {},
     "output_type": "execute_result"
    }
   ],
   "source": [
    "url.status_code"
   ]
  },
  {
   "cell_type": "code",
   "execution_count": 4,
   "id": "7fedecb5-b8a7-4979-bc30-cd00d74fdcb3",
   "metadata": {},
   "outputs": [],
   "source": [
    "response = url.text"
   ]
  },
  {
   "cell_type": "code",
   "execution_count": 5,
   "id": "23b43711-684c-4c29-babf-6331b07939a9",
   "metadata": {},
   "outputs": [
    {
     "name": "stdout",
     "output_type": "stream",
     "text": [
      "1034331\n"
     ]
    }
   ],
   "source": [
    "print(len(response))"
   ]
  },
  {
   "cell_type": "code",
   "execution_count": 6,
   "id": "12e5f56a-c623-402f-b617-d7545295d943",
   "metadata": {},
   "outputs": [],
   "source": [
    "page_info = bs(response, 'html.parser')"
   ]
  },
  {
   "cell_type": "code",
   "execution_count": 7,
   "id": "da752aa9-6ef7-450a-99a5-5ad7ba2676d9",
   "metadata": {},
   "outputs": [],
   "source": [
    "tickers = page_info.find_all('a', 'Fw(600) C($linkColor)')"
   ]
  },
  {
   "cell_type": "code",
   "execution_count": null,
   "id": "ff198ec9-30dc-4991-9f85-c9b43e52ca4d",
   "metadata": {},
   "outputs": [],
   "source": []
  },
  {
   "cell_type": "code",
   "execution_count": 8,
   "id": "b8ac239a-9d6e-4918-a8fb-6703f08460e8",
   "metadata": {},
   "outputs": [
    {
     "data": {
      "text/plain": [
       "[<a class=\"Fw(600) C($linkColor)\" data-reactid=\"79\" data-test=\"quoteLink\" href=\"/quote/AAPL?p=AAPL\" title=\"Apple Inc.\">AAPL</a>,\n",
       " <a class=\"Fw(600) C($linkColor)\" data-reactid=\"111\" data-test=\"quoteLink\" href=\"/quote/F?p=F\" title=\"Ford Motor Company\">F</a>]"
      ]
     },
     "execution_count": 8,
     "metadata": {},
     "output_type": "execute_result"
    }
   ],
   "source": [
    "tickers[:2]"
   ]
  },
  {
   "cell_type": "code",
   "execution_count": 9,
   "id": "72181f92-b444-4af8-a43a-1c7139157410",
   "metadata": {},
   "outputs": [],
   "source": [
    "the_tickers = [stock_name.text for stock_name in tickers]"
   ]
  },
  {
   "cell_type": "code",
   "execution_count": 10,
   "id": "edce01d8-ee2f-4720-9e84-ab28b0e1b109",
   "metadata": {},
   "outputs": [
    {
     "name": "stdout",
     "output_type": "stream",
     "text": [
      "['AAPL', 'F', 'NIO', 'LCID', 'CCL', 'T', 'ITUB', 'AAL', 'AMC', 'AMD', 'RLX', 'PBR', 'BBD', 'BAC', 'NVDA', 'PLTR', 'VALE', 'PFE', 'NCLH', 'NOK', 'DAL', 'CLF', 'BABA', 'UBER', 'VIAC']\n"
     ]
    }
   ],
   "source": [
    "print(the_tickers)"
   ]
  },
  {
   "cell_type": "code",
   "execution_count": 11,
   "id": "a4203d1e-fb5c-430a-9d5d-4b229588af9a",
   "metadata": {},
   "outputs": [],
   "source": [
    "company = page_info.find_all('td', 'Va(m) Ta(start) Px(10px) Fz(s)')"
   ]
  },
  {
   "cell_type": "code",
   "execution_count": 12,
   "id": "35237767-8097-4c6e-bdcb-32b03888ac9a",
   "metadata": {},
   "outputs": [
    {
     "data": {
      "text/plain": [
       "[<td aria-label=\"Name\" class=\"Va(m) Ta(start) Px(10px) Fz(s)\" colspan=\"\" data-reactid=\"81\"><!-- react-text: 82 -->Apple Inc.<!-- /react-text --></td>,\n",
       " <td aria-label=\"Name\" class=\"Va(m) Ta(start) Px(10px) Fz(s)\" colspan=\"\" data-reactid=\"113\"><!-- react-text: 114 -->Ford Motor Company<!-- /react-text --></td>,\n",
       " <td aria-label=\"Name\" class=\"Va(m) Ta(start) Px(10px) Fz(s)\" colspan=\"\" data-reactid=\"145\"><!-- react-text: 146 -->NIO Inc.<!-- /react-text --></td>,\n",
       " <td aria-label=\"Name\" class=\"Va(m) Ta(start) Px(10px) Fz(s)\" colspan=\"\" data-reactid=\"177\"><!-- react-text: 178 -->Lucid Group, Inc.<!-- /react-text --></td>,\n",
       " <td aria-label=\"Name\" class=\"Va(m) Ta(start) Px(10px) Fz(s)\" colspan=\"\" data-reactid=\"209\"><!-- react-text: 210 -->Carnival Corporation &amp; plc<!-- /react-text --></td>]"
      ]
     },
     "execution_count": 12,
     "metadata": {},
     "output_type": "execute_result"
    }
   ],
   "source": [
    "company[:5]"
   ]
  },
  {
   "cell_type": "code",
   "execution_count": 13,
   "id": "b3ec01c6-6fce-4c19-8949-14f84a88ef33",
   "metadata": {},
   "outputs": [],
   "source": [
    "all_company = [comp.text for comp in company]"
   ]
  },
  {
   "cell_type": "code",
   "execution_count": 14,
   "id": "859a05c0-ce30-4b90-a43d-b84b44aa6c96",
   "metadata": {},
   "outputs": [
    {
     "name": "stdout",
     "output_type": "stream",
     "text": [
      "['Apple Inc.', 'Ford Motor Company', 'NIO Inc.', 'Lucid Group, Inc.', 'Carnival Corporation & plc', 'AT&T Inc.', 'Itaú Unibanco Holding S.A.', 'American Airlines Group Inc.', 'AMC Entertainment Holdings, Inc.', 'Advanced Micro Devices, Inc.', 'RLX Technology Inc.', 'Petróleo Brasileiro S.A. - Petrobras', 'Banco Bradesco S.A.', 'Bank of America Corporation', 'NVIDIA Corporation', 'Palantir Technologies Inc.', 'Vale S.A.', 'Pfizer Inc.', 'Norwegian Cruise Line Holdings Ltd.', 'Nokia Corporation', 'Delta Air Lines, Inc.', 'Cleveland-Cliffs Inc.', 'Alibaba Group Holding Limited', 'Uber Technologies, Inc.', 'ViacomCBS Inc.']\n"
     ]
    }
   ],
   "source": [
    "print(all_company)"
   ]
  },
  {
   "cell_type": "code",
   "execution_count": 15,
   "id": "36cbc0d3-27d7-4202-b653-a4d2a0ada255",
   "metadata": {},
   "outputs": [],
   "source": [
    "intrday_price = page_info.find_all('td', {'aria-label':'Price (Intraday)'})"
   ]
  },
  {
   "cell_type": "code",
   "execution_count": 16,
   "id": "4c38cb61-89ca-433e-8bb9-6408e0c20fe7",
   "metadata": {
    "tags": []
   },
   "outputs": [
    {
     "data": {
      "text/plain": [
       "[<td aria-label=\"Price (Intraday)\" class=\"Va(m) Ta(end) Pstart(20px) Fw(600) Fz(s)\" colspan=\"\" data-reactid=\"83\"><fin-streamer active=\"\" class=\"\" data-field=\"regularMarketPrice\" data-pricehint=\"2\" data-reactid=\"84\" data-symbol=\"AAPL\" data-test=\"colorChange\" data-trend=\"none\" value=\"163.76\">163.76</fin-streamer></td>,\n",
       " <td aria-label=\"Price (Intraday)\" class=\"Va(m) Ta(end) Pstart(20px) Fw(600) Fz(s)\" colspan=\"\" data-reactid=\"115\"><fin-streamer active=\"\" class=\"\" data-field=\"regularMarketPrice\" data-pricehint=\"2\" data-reactid=\"116\" data-symbol=\"F\" data-test=\"colorChange\" data-trend=\"none\" value=\"19.87\">19.87</fin-streamer></td>,\n",
       " <td aria-label=\"Price (Intraday)\" class=\"Va(m) Ta(end) Pstart(20px) Fw(600) Fz(s)\" colspan=\"\" data-reactid=\"147\"><fin-streamer active=\"\" class=\"\" data-field=\"regularMarketPrice\" data-pricehint=\"2\" data-reactid=\"148\" data-symbol=\"NIO\" data-test=\"colorChange\" data-trend=\"none\" value=\"36.2\">36.20</fin-streamer></td>,\n",
       " <td aria-label=\"Price (Intraday)\" class=\"Va(m) Ta(end) Pstart(20px) Fw(600) Fz(s)\" colspan=\"\" data-reactid=\"179\"><fin-streamer active=\"\" class=\"\" data-field=\"regularMarketPrice\" data-pricehint=\"2\" data-reactid=\"180\" data-symbol=\"LCID\" data-test=\"colorChange\" data-trend=\"none\" value=\"48.41\">48.41</fin-streamer></td>,\n",
       " <td aria-label=\"Price (Intraday)\" class=\"Va(m) Ta(end) Pstart(20px) Fw(600) Fz(s)\" colspan=\"\" data-reactid=\"211\"><fin-streamer active=\"\" class=\"\" data-field=\"regularMarketPrice\" data-pricehint=\"2\" data-reactid=\"212\" data-symbol=\"CCL\" data-test=\"colorChange\" data-trend=\"none\" value=\"17.89\">17.89</fin-streamer></td>]"
      ]
     },
     "execution_count": 16,
     "metadata": {},
     "output_type": "execute_result"
    }
   ],
   "source": [
    "intrday_price[:5]"
   ]
  },
  {
   "cell_type": "code",
   "execution_count": 83,
   "id": "866040e1-4475-406b-9658-8ca417ea46fb",
   "metadata": {},
   "outputs": [],
   "source": [
    "all_price = [float(price.text) for price in intrday_price]"
   ]
  },
  {
   "cell_type": "code",
   "execution_count": 84,
   "id": "b6e93b8f-c46f-40f4-bbaf-8999b6b17e04",
   "metadata": {},
   "outputs": [
    {
     "data": {
      "text/plain": [
       "[163.76,\n",
       " 19.87,\n",
       " 36.2,\n",
       " 48.41,\n",
       " 17.89,\n",
       " 23.05,\n",
       " 4.06,\n",
       " 17.42,\n",
       " 30.28,\n",
       " 150.68,\n",
       " 4.43,\n",
       " 10.47,\n",
       " 3.67,\n",
       " 44.89,\n",
       " 321.26,\n",
       " 19.69,\n",
       " 12.99,\n",
       " 53.04,\n",
       " 19.16,\n",
       " 5.74,\n",
       " 36.64,\n",
       " 20.13,\n",
       " 122.0,\n",
       " 38.12,\n",
       " 29.56]"
      ]
     },
     "execution_count": 84,
     "metadata": {},
     "output_type": "execute_result"
    }
   ],
   "source": [
    "all_price"
   ]
  },
  {
   "cell_type": "code",
   "execution_count": 19,
   "id": "934256cf-deda-4a62-91ce-ca82df852af6",
   "metadata": {},
   "outputs": [],
   "source": [
    "price_change1 = page_info.find_all('td', {'aria-label': 'Change'})"
   ]
  },
  {
   "cell_type": "code",
   "execution_count": 20,
   "id": "788331f8-24d9-4c95-a703-4c0ec4d27b10",
   "metadata": {},
   "outputs": [],
   "source": [
    "all_price_changes1 = [price1.text for price1 in price_change1]"
   ]
  },
  {
   "cell_type": "code",
   "execution_count": 21,
   "id": "e6301202-649c-43d5-a21f-38a904e894ec",
   "metadata": {},
   "outputs": [
    {
     "data": {
      "text/plain": [
       "['-1.01',\n",
       " '+0.29',\n",
       " '-2.11',\n",
       " '-2.73',\n",
       " '+1.51',\n",
       " '+0.82',\n",
       " '+0.2200',\n",
       " '+1.14',\n",
       " '+1.71',\n",
       " '+1.57',\n",
       " '+0.3200',\n",
       " '+1.00',\n",
       " '+0.2134',\n",
       " '+1.26',\n",
       " '+6.91',\n",
       " '+0.31',\n",
       " '+0.74',\n",
       " '-1.64',\n",
       " '+1.37',\n",
       " '+0.18',\n",
       " '+3.11',\n",
       " '+0.46',\n",
       " '-0.49',\n",
       " '+2.10',\n",
       " '-0.14']"
      ]
     },
     "execution_count": 21,
     "metadata": {},
     "output_type": "execute_result"
    }
   ],
   "source": [
    "all_price_changes1"
   ]
  },
  {
   "cell_type": "code",
   "execution_count": 22,
   "id": "2737a397-bfc1-429f-b48d-e7fb9a7f97ec",
   "metadata": {},
   "outputs": [],
   "source": [
    "price_change = page_info.find_all('td', {'aria-label':'Change'})"
   ]
  },
  {
   "cell_type": "code",
   "execution_count": 31,
   "id": "e5686dc7-bcc2-49b5-b1a7-6124640d6cfa",
   "metadata": {},
   "outputs": [],
   "source": [
    "all_price_changes = [float(price.text) for price in price_change]"
   ]
  },
  {
   "cell_type": "code",
   "execution_count": 32,
   "id": "7b111461-b88a-453d-a6df-906035acc77b",
   "metadata": {},
   "outputs": [
    {
     "data": {
      "text/plain": [
       "[-1.01,\n",
       " 0.29,\n",
       " -2.11,\n",
       " -2.73,\n",
       " 1.51,\n",
       " 0.82,\n",
       " 0.22,\n",
       " 1.14,\n",
       " 1.71,\n",
       " 1.57,\n",
       " 0.32,\n",
       " 1.0,\n",
       " 0.2134,\n",
       " 1.26,\n",
       " 6.91,\n",
       " 0.31,\n",
       " 0.74,\n",
       " -1.64,\n",
       " 1.37,\n",
       " 0.18,\n",
       " 3.11,\n",
       " 0.46,\n",
       " -0.49,\n",
       " 2.1,\n",
       " -0.14]"
      ]
     },
     "execution_count": 32,
     "metadata": {},
     "output_type": "execute_result"
    }
   ],
   "source": [
    "all_price_changes"
   ]
  },
  {
   "cell_type": "code",
   "execution_count": 25,
   "id": "497750a8-4ac9-430d-935f-e92204803831",
   "metadata": {},
   "outputs": [],
   "source": [
    "perc_price_change = page_info.find_all('td', {'aria-label':'% Change'})"
   ]
  },
  {
   "cell_type": "code",
   "execution_count": 26,
   "id": "cbdec3d1-afc0-4c27-a16b-90e28b72bfd1",
   "metadata": {},
   "outputs": [],
   "source": [
    "all_price_changes_perc = [price_perc.text for price_perc in perc_price_change]"
   ]
  },
  {
   "cell_type": "code",
   "execution_count": 27,
   "id": "c7191d27-77c7-4798-bb14-a29c890d7214",
   "metadata": {},
   "outputs": [
    {
     "data": {
      "text/plain": [
       "['-0.61%',\n",
       " '+1.48%',\n",
       " '-5.51%',\n",
       " '-5.34%',\n",
       " '+9.22%',\n",
       " '+3.69%',\n",
       " '+5.73%',\n",
       " '+7.00%',\n",
       " '+5.99%',\n",
       " '+1.05%',\n",
       " '+7.79%',\n",
       " '+10.60%',\n",
       " '+6.17%',\n",
       " '+2.89%',\n",
       " '+2.20%',\n",
       " '+1.60%',\n",
       " '+6.04%',\n",
       " '-3.00%',\n",
       " '+7.70%',\n",
       " '+3.24%',\n",
       " '+9.28%',\n",
       " '+2.34%',\n",
       " '-0.40%',\n",
       " '+5.83%',\n",
       " '-0.47%']"
      ]
     },
     "execution_count": 27,
     "metadata": {},
     "output_type": "execute_result"
    }
   ],
   "source": [
    "all_price_changes_perc"
   ]
  },
  {
   "cell_type": "code",
   "execution_count": 28,
   "id": "b457843e-6aa7-4f5e-b0b8-a159140d4aa6",
   "metadata": {},
   "outputs": [],
   "source": [
    "volume = page_info.find_all('td', {'aria-label':'Volume'})"
   ]
  },
  {
   "cell_type": "code",
   "execution_count": 29,
   "id": "1a225944-a596-4005-9a26-6826489af613",
   "metadata": {},
   "outputs": [],
   "source": [
    "all_stock_volumes = [stock_vol.text for stock_vol in volume]"
   ]
  },
  {
   "cell_type": "code",
   "execution_count": 30,
   "id": "b19d37dd-ecc1-4d07-a96a-42456f8b0895",
   "metadata": {},
   "outputs": [
    {
     "data": {
      "text/plain": [
       "['136.401M',\n",
       " '92.27M',\n",
       " '84.69M',\n",
       " '76.684M',\n",
       " '75.985M',\n",
       " '79.82M',\n",
       " '67.348M',\n",
       " '58.316M',\n",
       " '54.452M',\n",
       " '56.029M',\n",
       " '53.265M',\n",
       " '52.352M',\n",
       " '50.875M',\n",
       " '56.595M',\n",
       " '46.491M',\n",
       " '45.169M',\n",
       " '44.738M',\n",
       " '46.144M',\n",
       " '39.773M',\n",
       " '37.527M',\n",
       " '34.348M',\n",
       " '33.447M',\n",
       " '32.09M',\n",
       " '31.39M',\n",
       " '31.231M']"
      ]
     },
     "execution_count": 30,
     "metadata": {},
     "output_type": "execute_result"
    }
   ],
   "source": [
    "all_stock_volumes"
   ]
  },
  {
   "cell_type": "code",
   "execution_count": 33,
   "id": "8a682764-31ab-4a68-a965-fc900e52e0b8",
   "metadata": {},
   "outputs": [],
   "source": [
    "all_stock_volumes1 = [float(stock_vol.text.replace('M', '')) * 1000000  for stock_vol in volume]"
   ]
  },
  {
   "cell_type": "code",
   "execution_count": 34,
   "id": "8bc947c4-4635-4ccf-a6a7-166ff0355993",
   "metadata": {},
   "outputs": [
    {
     "data": {
      "text/plain": [
       "[136401000.0,\n",
       " 92270000.0,\n",
       " 84690000.0,\n",
       " 76684000.0,\n",
       " 75985000.0,\n",
       " 79820000.0,\n",
       " 67348000.0,\n",
       " 58316000.0,\n",
       " 54452000.0,\n",
       " 56029000.0,\n",
       " 53265000.0,\n",
       " 52352000.0,\n",
       " 50875000.0,\n",
       " 56595000.0,\n",
       " 46491000.0,\n",
       " 45169000.0,\n",
       " 44738000.0,\n",
       " 46144000.0,\n",
       " 39773000.0,\n",
       " 37527000.0,\n",
       " 34348000.0,\n",
       " 33447000.000000004,\n",
       " 32090000.000000004,\n",
       " 31390000.0,\n",
       " 31231000.0]"
      ]
     },
     "execution_count": 34,
     "metadata": {},
     "output_type": "execute_result"
    }
   ],
   "source": [
    "all_stock_volumes1"
   ]
  },
  {
   "cell_type": "code",
   "execution_count": 39,
   "id": "369fecb8-ee5c-417a-9f5f-e69923975cae",
   "metadata": {},
   "outputs": [
    {
     "data": {
      "text/plain": [
       "['81.512M',\n",
       " '86.764M',\n",
       " '37.578M',\n",
       " '68.222M',\n",
       " '33.359M',\n",
       " '43.738M',\n",
       " '39.47M',\n",
       " '32.501M',\n",
       " '46.056M',\n",
       " '50.904M',\n",
       " '12.206M',\n",
       " '28.817M',\n",
       " '37.119M',\n",
       " '45.138M',\n",
       " '33.667M',\n",
       " '45.004M',\n",
       " '37.573M',\n",
       " '32.693M',\n",
       " '16.082M',\n",
       " '19.664M',\n",
       " '12.344M',\n",
       " '21.686M',\n",
       " '21.951M',\n",
       " '26.581M',\n",
       " '10.348M']"
      ]
     },
     "execution_count": 39,
     "metadata": {},
     "output_type": "execute_result"
    }
   ],
   "source": [
    "Avg_quarterly_volume = page_info.find_all('td', {'aria-label':'Avg Vol (3 month)'})\n",
    "all_quarterly_stock_volumes = [quat_stock_vol.text for quat_stock_vol in Avg_quarterly_volume]\n",
    "all_quarterly_stock_volumes\n",
    "\n"
   ]
  },
  {
   "cell_type": "code",
   "execution_count": 40,
   "id": "7f0edb4b-c454-44ef-abfb-82225eb8694d",
   "metadata": {},
   "outputs": [],
   "source": [
    "all_quarterly_stock_volumes1 = [float(quat_stock_vol.text.replace('M', '')) * 1000000  for quat_stock_vol in Avg_quarterly_volume]"
   ]
  },
  {
   "cell_type": "code",
   "execution_count": 41,
   "id": "73fdca0b-20ad-4793-b8cd-6ce6fe5b1b25",
   "metadata": {},
   "outputs": [
    {
     "data": {
      "text/plain": [
       "[81512000.0,\n",
       " 86764000.0,\n",
       " 37578000.0,\n",
       " 68222000.0,\n",
       " 33359000.0,\n",
       " 43738000.0,\n",
       " 39470000.0,\n",
       " 32500999.999999996,\n",
       " 46056000.0,\n",
       " 50904000.0,\n",
       " 12206000.0,\n",
       " 28817000.0,\n",
       " 37119000.0,\n",
       " 45138000.0,\n",
       " 33667000.0,\n",
       " 45004000.0,\n",
       " 37573000.0,\n",
       " 32692999.999999996,\n",
       " 16082000.0,\n",
       " 19664000.0,\n",
       " 12344000.0,\n",
       " 21686000.0,\n",
       " 21951000.0,\n",
       " 26581000.0,\n",
       " 10348000.0]"
      ]
     },
     "execution_count": 41,
     "metadata": {},
     "output_type": "execute_result"
    }
   ],
   "source": [
    "all_quarterly_stock_volumes1"
   ]
  },
  {
   "cell_type": "code",
   "execution_count": 43,
   "id": "bbd88472-4231-4f61-a51f-4724b1eeb486",
   "metadata": {
    "tags": []
   },
   "outputs": [
    {
     "data": {
      "text/plain": [
       "['2.687T',\n",
       " '79.405B',\n",
       " '57.579B',\n",
       " '79.701B',\n",
       " '20.855B',\n",
       " '164.6B',\n",
       " '39.706B',\n",
       " '11.28B',\n",
       " '15.544B',\n",
       " '181.963B',\n",
       " '6.959B',\n",
       " '68.286B',\n",
       " '35.561B',\n",
       " '367.383B',\n",
       " '800.58B',\n",
       " '39.475B',\n",
       " '66.075B',\n",
       " '297.707B',\n",
       " '7.988B',\n",
       " '33.651B',\n",
       " '23.45B',\n",
       " '10.067B',\n",
       " '348.195B',\n",
       " '73.957B',\n",
       " '19.235B']"
      ]
     },
     "execution_count": 43,
     "metadata": {},
     "output_type": "execute_result"
    }
   ],
   "source": [
    "market_capitalization = page_info.find_all('td', {'aria-label':'Market Cap'})\n",
    "all_market_cap = [market_cap.text for market_cap in market_capitalization]\n",
    "all_market_cap\n",
    "\n",
    "\n"
   ]
  },
  {
   "cell_type": "code",
   "execution_count": 71,
   "id": "978fd56b-9b03-40ae-b700-9bcf653cc1ca",
   "metadata": {},
   "outputs": [
    {
     "data": {
      "text/plain": [
       "[2687000000000.0,\n",
       " 79405000000.0,\n",
       " 57579000000.0,\n",
       " 79701000000.0,\n",
       " 20855000000.0,\n",
       " 164600000000.0,\n",
       " 39706000000.0,\n",
       " 11280000000.0,\n",
       " 15544000000.0,\n",
       " 181963000000.0,\n",
       " 6959000000.0,\n",
       " 68286000000.0,\n",
       " 35561000000.0,\n",
       " 367383000000.0,\n",
       " 800580000000.0,\n",
       " 39475000000.0,\n",
       " 66075000000.0,\n",
       " 297707000000.0,\n",
       " 7988000000.0,\n",
       " 33651000000.000004,\n",
       " 23450000000.0,\n",
       " 10067000000.0,\n",
       " 348195000000.0,\n",
       " 73957000000.0,\n",
       " 19235000000.0]"
      ]
     },
     "execution_count": 71,
     "metadata": {},
     "output_type": "execute_result"
    }
   ],
   "source": [
    "all_market_cap1 = [float(mark_cap.text.replace('B', '')) * 1000000000 if 'B' in mark_cap.text \n",
    "                   else float(mark_cap.text.replace('T', '')) * 1000000000000 if 'T' in mark_cap.text \n",
    "                   else float(mark_cap.text.replace('T', '')) * 1000000 for mark_cap in market_capitalization]\n",
    "all_market_cap1\n",
    "\n"
   ]
  },
  {
   "cell_type": "code",
   "execution_count": 85,
   "id": "83620638-ab8e-4fd8-b6b6-030a12b18afa",
   "metadata": {},
   "outputs": [],
   "source": [
    "stock_data = {\n",
    "'Stock Ticker': the_tickers,\n",
    "'Company Name': all_company,\n",
    "'Current Price': all_price,\n",
    "'Change in Price': all_price_changes,\n",
    "'%age Change in Price': all_price_changes_perc,\n",
    "'Traded Volume': all_stock_volumes1,\n",
    "'Quaterly Volume': all_quarterly_stock_volumes1,\n",
    "'Market Capitalization': all_market_cap1\n",
    "}"
   ]
  },
  {
   "cell_type": "code",
   "execution_count": 86,
   "id": "40adb038-4d5b-461d-8a7e-8d933b40bce3",
   "metadata": {},
   "outputs": [
    {
     "data": {
      "text/plain": [
       "dict"
      ]
     },
     "execution_count": 86,
     "metadata": {},
     "output_type": "execute_result"
    }
   ],
   "source": [
    "type(stock_data)"
   ]
  },
  {
   "cell_type": "code",
   "execution_count": 87,
   "id": "634e5ab1-79cc-48a5-8c8c-819c35e8daa4",
   "metadata": {},
   "outputs": [],
   "source": [
    "import pandas as pd"
   ]
  },
  {
   "cell_type": "code",
   "execution_count": 88,
   "id": "1e57f3a5-a583-4813-a94f-d7c6e6e23074",
   "metadata": {},
   "outputs": [],
   "source": [
    "us_stock_dataset = pd.DataFrame(stock_data)"
   ]
  },
  {
   "cell_type": "code",
   "execution_count": 89,
   "id": "4d46b163-90c3-4319-8ec5-16a8ee53976a",
   "metadata": {},
   "outputs": [
    {
     "data": {
      "text/html": [
       "<div>\n",
       "<style scoped>\n",
       "    .dataframe tbody tr th:only-of-type {\n",
       "        vertical-align: middle;\n",
       "    }\n",
       "\n",
       "    .dataframe tbody tr th {\n",
       "        vertical-align: top;\n",
       "    }\n",
       "\n",
       "    .dataframe thead th {\n",
       "        text-align: right;\n",
       "    }\n",
       "</style>\n",
       "<table border=\"1\" class=\"dataframe\">\n",
       "  <thead>\n",
       "    <tr style=\"text-align: right;\">\n",
       "      <th></th>\n",
       "      <th>Stock Ticker</th>\n",
       "      <th>Company Name</th>\n",
       "      <th>Current Price</th>\n",
       "      <th>Change in Price</th>\n",
       "      <th>%age Change in Price</th>\n",
       "      <th>Traded Volume</th>\n",
       "      <th>Quaterly Volume</th>\n",
       "      <th>Market Capitalization</th>\n",
       "    </tr>\n",
       "  </thead>\n",
       "  <tbody>\n",
       "    <tr>\n",
       "      <th>0</th>\n",
       "      <td>AAPL</td>\n",
       "      <td>Apple Inc.</td>\n",
       "      <td>163.76</td>\n",
       "      <td>-1.0100</td>\n",
       "      <td>-0.61%</td>\n",
       "      <td>136401000.0</td>\n",
       "      <td>81512000.0</td>\n",
       "      <td>2.687000e+12</td>\n",
       "    </tr>\n",
       "    <tr>\n",
       "      <th>1</th>\n",
       "      <td>F</td>\n",
       "      <td>Ford Motor Company</td>\n",
       "      <td>19.87</td>\n",
       "      <td>0.2900</td>\n",
       "      <td>+1.48%</td>\n",
       "      <td>92270000.0</td>\n",
       "      <td>86764000.0</td>\n",
       "      <td>7.940500e+10</td>\n",
       "    </tr>\n",
       "    <tr>\n",
       "      <th>2</th>\n",
       "      <td>NIO</td>\n",
       "      <td>NIO Inc.</td>\n",
       "      <td>36.20</td>\n",
       "      <td>-2.1100</td>\n",
       "      <td>-5.51%</td>\n",
       "      <td>84690000.0</td>\n",
       "      <td>37578000.0</td>\n",
       "      <td>5.757900e+10</td>\n",
       "    </tr>\n",
       "    <tr>\n",
       "      <th>3</th>\n",
       "      <td>LCID</td>\n",
       "      <td>Lucid Group, Inc.</td>\n",
       "      <td>48.41</td>\n",
       "      <td>-2.7300</td>\n",
       "      <td>-5.34%</td>\n",
       "      <td>76684000.0</td>\n",
       "      <td>68222000.0</td>\n",
       "      <td>7.970100e+10</td>\n",
       "    </tr>\n",
       "    <tr>\n",
       "      <th>4</th>\n",
       "      <td>CCL</td>\n",
       "      <td>Carnival Corporation &amp; plc</td>\n",
       "      <td>17.89</td>\n",
       "      <td>1.5100</td>\n",
       "      <td>+9.22%</td>\n",
       "      <td>75985000.0</td>\n",
       "      <td>33359000.0</td>\n",
       "      <td>2.085500e+10</td>\n",
       "    </tr>\n",
       "    <tr>\n",
       "      <th>5</th>\n",
       "      <td>T</td>\n",
       "      <td>AT&amp;T Inc.</td>\n",
       "      <td>23.05</td>\n",
       "      <td>0.8200</td>\n",
       "      <td>+3.69%</td>\n",
       "      <td>79820000.0</td>\n",
       "      <td>43738000.0</td>\n",
       "      <td>1.646000e+11</td>\n",
       "    </tr>\n",
       "    <tr>\n",
       "      <th>6</th>\n",
       "      <td>ITUB</td>\n",
       "      <td>Itaú Unibanco Holding S.A.</td>\n",
       "      <td>4.06</td>\n",
       "      <td>0.2200</td>\n",
       "      <td>+5.73%</td>\n",
       "      <td>67348000.0</td>\n",
       "      <td>39470000.0</td>\n",
       "      <td>3.970600e+10</td>\n",
       "    </tr>\n",
       "    <tr>\n",
       "      <th>7</th>\n",
       "      <td>AAL</td>\n",
       "      <td>American Airlines Group Inc.</td>\n",
       "      <td>17.42</td>\n",
       "      <td>1.1400</td>\n",
       "      <td>+7.00%</td>\n",
       "      <td>58316000.0</td>\n",
       "      <td>32501000.0</td>\n",
       "      <td>1.128000e+10</td>\n",
       "    </tr>\n",
       "    <tr>\n",
       "      <th>8</th>\n",
       "      <td>AMC</td>\n",
       "      <td>AMC Entertainment Holdings, Inc.</td>\n",
       "      <td>30.28</td>\n",
       "      <td>1.7100</td>\n",
       "      <td>+5.99%</td>\n",
       "      <td>54452000.0</td>\n",
       "      <td>46056000.0</td>\n",
       "      <td>1.554400e+10</td>\n",
       "    </tr>\n",
       "    <tr>\n",
       "      <th>9</th>\n",
       "      <td>AMD</td>\n",
       "      <td>Advanced Micro Devices, Inc.</td>\n",
       "      <td>150.68</td>\n",
       "      <td>1.5700</td>\n",
       "      <td>+1.05%</td>\n",
       "      <td>56029000.0</td>\n",
       "      <td>50904000.0</td>\n",
       "      <td>1.819630e+11</td>\n",
       "    </tr>\n",
       "    <tr>\n",
       "      <th>10</th>\n",
       "      <td>RLX</td>\n",
       "      <td>RLX Technology Inc.</td>\n",
       "      <td>4.43</td>\n",
       "      <td>0.3200</td>\n",
       "      <td>+7.79%</td>\n",
       "      <td>53265000.0</td>\n",
       "      <td>12206000.0</td>\n",
       "      <td>6.959000e+09</td>\n",
       "    </tr>\n",
       "    <tr>\n",
       "      <th>11</th>\n",
       "      <td>PBR</td>\n",
       "      <td>Petróleo Brasileiro S.A. - Petrobras</td>\n",
       "      <td>10.47</td>\n",
       "      <td>1.0000</td>\n",
       "      <td>+10.60%</td>\n",
       "      <td>52352000.0</td>\n",
       "      <td>28817000.0</td>\n",
       "      <td>6.828600e+10</td>\n",
       "    </tr>\n",
       "    <tr>\n",
       "      <th>12</th>\n",
       "      <td>BBD</td>\n",
       "      <td>Banco Bradesco S.A.</td>\n",
       "      <td>3.67</td>\n",
       "      <td>0.2134</td>\n",
       "      <td>+6.17%</td>\n",
       "      <td>50875000.0</td>\n",
       "      <td>37119000.0</td>\n",
       "      <td>3.556100e+10</td>\n",
       "    </tr>\n",
       "    <tr>\n",
       "      <th>13</th>\n",
       "      <td>BAC</td>\n",
       "      <td>Bank of America Corporation</td>\n",
       "      <td>44.89</td>\n",
       "      <td>1.2600</td>\n",
       "      <td>+2.89%</td>\n",
       "      <td>56595000.0</td>\n",
       "      <td>45138000.0</td>\n",
       "      <td>3.673830e+11</td>\n",
       "    </tr>\n",
       "    <tr>\n",
       "      <th>14</th>\n",
       "      <td>NVDA</td>\n",
       "      <td>NVIDIA Corporation</td>\n",
       "      <td>321.26</td>\n",
       "      <td>6.9100</td>\n",
       "      <td>+2.20%</td>\n",
       "      <td>46491000.0</td>\n",
       "      <td>33667000.0</td>\n",
       "      <td>8.005800e+11</td>\n",
       "    </tr>\n",
       "    <tr>\n",
       "      <th>15</th>\n",
       "      <td>PLTR</td>\n",
       "      <td>Palantir Technologies Inc.</td>\n",
       "      <td>19.69</td>\n",
       "      <td>0.3100</td>\n",
       "      <td>+1.60%</td>\n",
       "      <td>45169000.0</td>\n",
       "      <td>45004000.0</td>\n",
       "      <td>3.947500e+10</td>\n",
       "    </tr>\n",
       "    <tr>\n",
       "      <th>16</th>\n",
       "      <td>VALE</td>\n",
       "      <td>Vale S.A.</td>\n",
       "      <td>12.99</td>\n",
       "      <td>0.7400</td>\n",
       "      <td>+6.04%</td>\n",
       "      <td>44738000.0</td>\n",
       "      <td>37573000.0</td>\n",
       "      <td>6.607500e+10</td>\n",
       "    </tr>\n",
       "    <tr>\n",
       "      <th>17</th>\n",
       "      <td>PFE</td>\n",
       "      <td>Pfizer Inc.</td>\n",
       "      <td>53.04</td>\n",
       "      <td>-1.6400</td>\n",
       "      <td>-3.00%</td>\n",
       "      <td>46144000.0</td>\n",
       "      <td>32693000.0</td>\n",
       "      <td>2.977070e+11</td>\n",
       "    </tr>\n",
       "    <tr>\n",
       "      <th>18</th>\n",
       "      <td>NCLH</td>\n",
       "      <td>Norwegian Cruise Line Holdings Ltd.</td>\n",
       "      <td>19.16</td>\n",
       "      <td>1.3700</td>\n",
       "      <td>+7.70%</td>\n",
       "      <td>39773000.0</td>\n",
       "      <td>16082000.0</td>\n",
       "      <td>7.988000e+09</td>\n",
       "    </tr>\n",
       "    <tr>\n",
       "      <th>19</th>\n",
       "      <td>NOK</td>\n",
       "      <td>Nokia Corporation</td>\n",
       "      <td>5.74</td>\n",
       "      <td>0.1800</td>\n",
       "      <td>+3.24%</td>\n",
       "      <td>37527000.0</td>\n",
       "      <td>19664000.0</td>\n",
       "      <td>3.365100e+10</td>\n",
       "    </tr>\n",
       "    <tr>\n",
       "      <th>20</th>\n",
       "      <td>DAL</td>\n",
       "      <td>Delta Air Lines, Inc.</td>\n",
       "      <td>36.64</td>\n",
       "      <td>3.1100</td>\n",
       "      <td>+9.28%</td>\n",
       "      <td>34348000.0</td>\n",
       "      <td>12344000.0</td>\n",
       "      <td>2.345000e+10</td>\n",
       "    </tr>\n",
       "    <tr>\n",
       "      <th>21</th>\n",
       "      <td>CLF</td>\n",
       "      <td>Cleveland-Cliffs Inc.</td>\n",
       "      <td>20.13</td>\n",
       "      <td>0.4600</td>\n",
       "      <td>+2.34%</td>\n",
       "      <td>33447000.0</td>\n",
       "      <td>21686000.0</td>\n",
       "      <td>1.006700e+10</td>\n",
       "    </tr>\n",
       "    <tr>\n",
       "      <th>22</th>\n",
       "      <td>BABA</td>\n",
       "      <td>Alibaba Group Holding Limited</td>\n",
       "      <td>122.00</td>\n",
       "      <td>-0.4900</td>\n",
       "      <td>-0.40%</td>\n",
       "      <td>32090000.0</td>\n",
       "      <td>21951000.0</td>\n",
       "      <td>3.481950e+11</td>\n",
       "    </tr>\n",
       "    <tr>\n",
       "      <th>23</th>\n",
       "      <td>UBER</td>\n",
       "      <td>Uber Technologies, Inc.</td>\n",
       "      <td>38.12</td>\n",
       "      <td>2.1000</td>\n",
       "      <td>+5.83%</td>\n",
       "      <td>31390000.0</td>\n",
       "      <td>26581000.0</td>\n",
       "      <td>7.395700e+10</td>\n",
       "    </tr>\n",
       "    <tr>\n",
       "      <th>24</th>\n",
       "      <td>VIAC</td>\n",
       "      <td>ViacomCBS Inc.</td>\n",
       "      <td>29.56</td>\n",
       "      <td>-0.1400</td>\n",
       "      <td>-0.47%</td>\n",
       "      <td>31231000.0</td>\n",
       "      <td>10348000.0</td>\n",
       "      <td>1.923500e+10</td>\n",
       "    </tr>\n",
       "  </tbody>\n",
       "</table>\n",
       "</div>"
      ],
      "text/plain": [
       "   Stock Ticker                          Company Name  Current Price  \\\n",
       "0          AAPL                            Apple Inc.         163.76   \n",
       "1             F                    Ford Motor Company          19.87   \n",
       "2           NIO                              NIO Inc.          36.20   \n",
       "3          LCID                     Lucid Group, Inc.          48.41   \n",
       "4           CCL            Carnival Corporation & plc          17.89   \n",
       "5             T                             AT&T Inc.          23.05   \n",
       "6          ITUB            Itaú Unibanco Holding S.A.           4.06   \n",
       "7           AAL          American Airlines Group Inc.          17.42   \n",
       "8           AMC      AMC Entertainment Holdings, Inc.          30.28   \n",
       "9           AMD          Advanced Micro Devices, Inc.         150.68   \n",
       "10          RLX                   RLX Technology Inc.           4.43   \n",
       "11          PBR  Petróleo Brasileiro S.A. - Petrobras          10.47   \n",
       "12          BBD                   Banco Bradesco S.A.           3.67   \n",
       "13          BAC           Bank of America Corporation          44.89   \n",
       "14         NVDA                    NVIDIA Corporation         321.26   \n",
       "15         PLTR            Palantir Technologies Inc.          19.69   \n",
       "16         VALE                             Vale S.A.          12.99   \n",
       "17          PFE                           Pfizer Inc.          53.04   \n",
       "18         NCLH   Norwegian Cruise Line Holdings Ltd.          19.16   \n",
       "19          NOK                     Nokia Corporation           5.74   \n",
       "20          DAL                 Delta Air Lines, Inc.          36.64   \n",
       "21          CLF                 Cleveland-Cliffs Inc.          20.13   \n",
       "22         BABA         Alibaba Group Holding Limited         122.00   \n",
       "23         UBER               Uber Technologies, Inc.          38.12   \n",
       "24         VIAC                        ViacomCBS Inc.          29.56   \n",
       "\n",
       "    Change in Price %age Change in Price  Traded Volume  Quaterly Volume  \\\n",
       "0           -1.0100               -0.61%    136401000.0       81512000.0   \n",
       "1            0.2900               +1.48%     92270000.0       86764000.0   \n",
       "2           -2.1100               -5.51%     84690000.0       37578000.0   \n",
       "3           -2.7300               -5.34%     76684000.0       68222000.0   \n",
       "4            1.5100               +9.22%     75985000.0       33359000.0   \n",
       "5            0.8200               +3.69%     79820000.0       43738000.0   \n",
       "6            0.2200               +5.73%     67348000.0       39470000.0   \n",
       "7            1.1400               +7.00%     58316000.0       32501000.0   \n",
       "8            1.7100               +5.99%     54452000.0       46056000.0   \n",
       "9            1.5700               +1.05%     56029000.0       50904000.0   \n",
       "10           0.3200               +7.79%     53265000.0       12206000.0   \n",
       "11           1.0000              +10.60%     52352000.0       28817000.0   \n",
       "12           0.2134               +6.17%     50875000.0       37119000.0   \n",
       "13           1.2600               +2.89%     56595000.0       45138000.0   \n",
       "14           6.9100               +2.20%     46491000.0       33667000.0   \n",
       "15           0.3100               +1.60%     45169000.0       45004000.0   \n",
       "16           0.7400               +6.04%     44738000.0       37573000.0   \n",
       "17          -1.6400               -3.00%     46144000.0       32693000.0   \n",
       "18           1.3700               +7.70%     39773000.0       16082000.0   \n",
       "19           0.1800               +3.24%     37527000.0       19664000.0   \n",
       "20           3.1100               +9.28%     34348000.0       12344000.0   \n",
       "21           0.4600               +2.34%     33447000.0       21686000.0   \n",
       "22          -0.4900               -0.40%     32090000.0       21951000.0   \n",
       "23           2.1000               +5.83%     31390000.0       26581000.0   \n",
       "24          -0.1400               -0.47%     31231000.0       10348000.0   \n",
       "\n",
       "    Market Capitalization  \n",
       "0            2.687000e+12  \n",
       "1            7.940500e+10  \n",
       "2            5.757900e+10  \n",
       "3            7.970100e+10  \n",
       "4            2.085500e+10  \n",
       "5            1.646000e+11  \n",
       "6            3.970600e+10  \n",
       "7            1.128000e+10  \n",
       "8            1.554400e+10  \n",
       "9            1.819630e+11  \n",
       "10           6.959000e+09  \n",
       "11           6.828600e+10  \n",
       "12           3.556100e+10  \n",
       "13           3.673830e+11  \n",
       "14           8.005800e+11  \n",
       "15           3.947500e+10  \n",
       "16           6.607500e+10  \n",
       "17           2.977070e+11  \n",
       "18           7.988000e+09  \n",
       "19           3.365100e+10  \n",
       "20           2.345000e+10  \n",
       "21           1.006700e+10  \n",
       "22           3.481950e+11  \n",
       "23           7.395700e+10  \n",
       "24           1.923500e+10  "
      ]
     },
     "execution_count": 89,
     "metadata": {},
     "output_type": "execute_result"
    }
   ],
   "source": [
    "us_stock_dataset"
   ]
  },
  {
   "cell_type": "code",
   "execution_count": 90,
   "id": "3e7d267c-6d14-4349-bad0-538218cbe4dd",
   "metadata": {},
   "outputs": [
    {
     "data": {
      "text/html": [
       "<div>\n",
       "<style scoped>\n",
       "    .dataframe tbody tr th:only-of-type {\n",
       "        vertical-align: middle;\n",
       "    }\n",
       "\n",
       "    .dataframe tbody tr th {\n",
       "        vertical-align: top;\n",
       "    }\n",
       "\n",
       "    .dataframe thead th {\n",
       "        text-align: right;\n",
       "    }\n",
       "</style>\n",
       "<table border=\"1\" class=\"dataframe\">\n",
       "  <thead>\n",
       "    <tr style=\"text-align: right;\">\n",
       "      <th></th>\n",
       "      <th>Stock Ticker</th>\n",
       "      <th>Company Name</th>\n",
       "      <th>Current Price</th>\n",
       "      <th>Change in Price</th>\n",
       "      <th>%age Change in Price</th>\n",
       "      <th>Traded Volume</th>\n",
       "      <th>Quaterly Volume</th>\n",
       "      <th>Market Capitalization</th>\n",
       "    </tr>\n",
       "  </thead>\n",
       "  <tbody>\n",
       "    <tr>\n",
       "      <th>20</th>\n",
       "      <td>DAL</td>\n",
       "      <td>Delta Air Lines, Inc.</td>\n",
       "      <td>36.64</td>\n",
       "      <td>3.11</td>\n",
       "      <td>+9.28%</td>\n",
       "      <td>34348000.0</td>\n",
       "      <td>12344000.0</td>\n",
       "      <td>2.345000e+10</td>\n",
       "    </tr>\n",
       "    <tr>\n",
       "      <th>21</th>\n",
       "      <td>CLF</td>\n",
       "      <td>Cleveland-Cliffs Inc.</td>\n",
       "      <td>20.13</td>\n",
       "      <td>0.46</td>\n",
       "      <td>+2.34%</td>\n",
       "      <td>33447000.0</td>\n",
       "      <td>21686000.0</td>\n",
       "      <td>1.006700e+10</td>\n",
       "    </tr>\n",
       "    <tr>\n",
       "      <th>22</th>\n",
       "      <td>BABA</td>\n",
       "      <td>Alibaba Group Holding Limited</td>\n",
       "      <td>122.00</td>\n",
       "      <td>-0.49</td>\n",
       "      <td>-0.40%</td>\n",
       "      <td>32090000.0</td>\n",
       "      <td>21951000.0</td>\n",
       "      <td>3.481950e+11</td>\n",
       "    </tr>\n",
       "    <tr>\n",
       "      <th>23</th>\n",
       "      <td>UBER</td>\n",
       "      <td>Uber Technologies, Inc.</td>\n",
       "      <td>38.12</td>\n",
       "      <td>2.10</td>\n",
       "      <td>+5.83%</td>\n",
       "      <td>31390000.0</td>\n",
       "      <td>26581000.0</td>\n",
       "      <td>7.395700e+10</td>\n",
       "    </tr>\n",
       "    <tr>\n",
       "      <th>24</th>\n",
       "      <td>VIAC</td>\n",
       "      <td>ViacomCBS Inc.</td>\n",
       "      <td>29.56</td>\n",
       "      <td>-0.14</td>\n",
       "      <td>-0.47%</td>\n",
       "      <td>31231000.0</td>\n",
       "      <td>10348000.0</td>\n",
       "      <td>1.923500e+10</td>\n",
       "    </tr>\n",
       "  </tbody>\n",
       "</table>\n",
       "</div>"
      ],
      "text/plain": [
       "   Stock Ticker                   Company Name  Current Price  \\\n",
       "20          DAL          Delta Air Lines, Inc.          36.64   \n",
       "21          CLF          Cleveland-Cliffs Inc.          20.13   \n",
       "22         BABA  Alibaba Group Holding Limited         122.00   \n",
       "23         UBER        Uber Technologies, Inc.          38.12   \n",
       "24         VIAC                 ViacomCBS Inc.          29.56   \n",
       "\n",
       "    Change in Price %age Change in Price  Traded Volume  Quaterly Volume  \\\n",
       "20             3.11               +9.28%     34348000.0       12344000.0   \n",
       "21             0.46               +2.34%     33447000.0       21686000.0   \n",
       "22            -0.49               -0.40%     32090000.0       21951000.0   \n",
       "23             2.10               +5.83%     31390000.0       26581000.0   \n",
       "24            -0.14               -0.47%     31231000.0       10348000.0   \n",
       "\n",
       "    Market Capitalization  \n",
       "20           2.345000e+10  \n",
       "21           1.006700e+10  \n",
       "22           3.481950e+11  \n",
       "23           7.395700e+10  \n",
       "24           1.923500e+10  "
      ]
     },
     "execution_count": 90,
     "metadata": {},
     "output_type": "execute_result"
    }
   ],
   "source": [
    "us_stock_dataset.tail(5)"
   ]
  },
  {
   "cell_type": "code",
   "execution_count": 91,
   "id": "f1e2b29f-6ac1-497c-b3fe-56f6cc3f2b68",
   "metadata": {},
   "outputs": [
    {
     "data": {
      "text/html": [
       "<div>\n",
       "<style scoped>\n",
       "    .dataframe tbody tr th:only-of-type {\n",
       "        vertical-align: middle;\n",
       "    }\n",
       "\n",
       "    .dataframe tbody tr th {\n",
       "        vertical-align: top;\n",
       "    }\n",
       "\n",
       "    .dataframe thead th {\n",
       "        text-align: right;\n",
       "    }\n",
       "</style>\n",
       "<table border=\"1\" class=\"dataframe\">\n",
       "  <thead>\n",
       "    <tr style=\"text-align: right;\">\n",
       "      <th></th>\n",
       "      <th>Stock Ticker</th>\n",
       "      <th>Company Name</th>\n",
       "      <th>Current Price</th>\n",
       "      <th>Change in Price</th>\n",
       "      <th>%age Change in Price</th>\n",
       "      <th>Traded Volume</th>\n",
       "      <th>Quaterly Volume</th>\n",
       "      <th>Market Capitalization</th>\n",
       "    </tr>\n",
       "  </thead>\n",
       "  <tbody>\n",
       "    <tr>\n",
       "      <th>0</th>\n",
       "      <td>AAPL</td>\n",
       "      <td>Apple Inc.</td>\n",
       "      <td>163.76</td>\n",
       "      <td>-1.01</td>\n",
       "      <td>-0.61%</td>\n",
       "      <td>136401000.0</td>\n",
       "      <td>81512000.0</td>\n",
       "      <td>2.687000e+12</td>\n",
       "    </tr>\n",
       "    <tr>\n",
       "      <th>1</th>\n",
       "      <td>F</td>\n",
       "      <td>Ford Motor Company</td>\n",
       "      <td>19.87</td>\n",
       "      <td>0.29</td>\n",
       "      <td>+1.48%</td>\n",
       "      <td>92270000.0</td>\n",
       "      <td>86764000.0</td>\n",
       "      <td>7.940500e+10</td>\n",
       "    </tr>\n",
       "    <tr>\n",
       "      <th>2</th>\n",
       "      <td>NIO</td>\n",
       "      <td>NIO Inc.</td>\n",
       "      <td>36.20</td>\n",
       "      <td>-2.11</td>\n",
       "      <td>-5.51%</td>\n",
       "      <td>84690000.0</td>\n",
       "      <td>37578000.0</td>\n",
       "      <td>5.757900e+10</td>\n",
       "    </tr>\n",
       "    <tr>\n",
       "      <th>3</th>\n",
       "      <td>LCID</td>\n",
       "      <td>Lucid Group, Inc.</td>\n",
       "      <td>48.41</td>\n",
       "      <td>-2.73</td>\n",
       "      <td>-5.34%</td>\n",
       "      <td>76684000.0</td>\n",
       "      <td>68222000.0</td>\n",
       "      <td>7.970100e+10</td>\n",
       "    </tr>\n",
       "    <tr>\n",
       "      <th>4</th>\n",
       "      <td>CCL</td>\n",
       "      <td>Carnival Corporation &amp; plc</td>\n",
       "      <td>17.89</td>\n",
       "      <td>1.51</td>\n",
       "      <td>+9.22%</td>\n",
       "      <td>75985000.0</td>\n",
       "      <td>33359000.0</td>\n",
       "      <td>2.085500e+10</td>\n",
       "    </tr>\n",
       "    <tr>\n",
       "      <th>5</th>\n",
       "      <td>T</td>\n",
       "      <td>AT&amp;T Inc.</td>\n",
       "      <td>23.05</td>\n",
       "      <td>0.82</td>\n",
       "      <td>+3.69%</td>\n",
       "      <td>79820000.0</td>\n",
       "      <td>43738000.0</td>\n",
       "      <td>1.646000e+11</td>\n",
       "    </tr>\n",
       "    <tr>\n",
       "      <th>6</th>\n",
       "      <td>ITUB</td>\n",
       "      <td>Itaú Unibanco Holding S.A.</td>\n",
       "      <td>4.06</td>\n",
       "      <td>0.22</td>\n",
       "      <td>+5.73%</td>\n",
       "      <td>67348000.0</td>\n",
       "      <td>39470000.0</td>\n",
       "      <td>3.970600e+10</td>\n",
       "    </tr>\n",
       "    <tr>\n",
       "      <th>7</th>\n",
       "      <td>AAL</td>\n",
       "      <td>American Airlines Group Inc.</td>\n",
       "      <td>17.42</td>\n",
       "      <td>1.14</td>\n",
       "      <td>+7.00%</td>\n",
       "      <td>58316000.0</td>\n",
       "      <td>32501000.0</td>\n",
       "      <td>1.128000e+10</td>\n",
       "    </tr>\n",
       "  </tbody>\n",
       "</table>\n",
       "</div>"
      ],
      "text/plain": [
       "  Stock Ticker                  Company Name  Current Price  Change in Price  \\\n",
       "0         AAPL                    Apple Inc.         163.76            -1.01   \n",
       "1            F            Ford Motor Company          19.87             0.29   \n",
       "2          NIO                      NIO Inc.          36.20            -2.11   \n",
       "3         LCID             Lucid Group, Inc.          48.41            -2.73   \n",
       "4          CCL    Carnival Corporation & plc          17.89             1.51   \n",
       "5            T                     AT&T Inc.          23.05             0.82   \n",
       "6         ITUB    Itaú Unibanco Holding S.A.           4.06             0.22   \n",
       "7          AAL  American Airlines Group Inc.          17.42             1.14   \n",
       "\n",
       "  %age Change in Price  Traded Volume  Quaterly Volume  Market Capitalization  \n",
       "0               -0.61%    136401000.0       81512000.0           2.687000e+12  \n",
       "1               +1.48%     92270000.0       86764000.0           7.940500e+10  \n",
       "2               -5.51%     84690000.0       37578000.0           5.757900e+10  \n",
       "3               -5.34%     76684000.0       68222000.0           7.970100e+10  \n",
       "4               +9.22%     75985000.0       33359000.0           2.085500e+10  \n",
       "5               +3.69%     79820000.0       43738000.0           1.646000e+11  \n",
       "6               +5.73%     67348000.0       39470000.0           3.970600e+10  \n",
       "7               +7.00%     58316000.0       32501000.0           1.128000e+10  "
      ]
     },
     "execution_count": 91,
     "metadata": {},
     "output_type": "execute_result"
    }
   ],
   "source": [
    "us_stock_dataset.head(8)"
   ]
  },
  {
   "cell_type": "code",
   "execution_count": 92,
   "id": "71cf6489-98e9-4632-beeb-410781a0a4dd",
   "metadata": {},
   "outputs": [],
   "source": [
    "us_stock_dataset.to_csv('us_stocks.csv', header=False, index=False)"
   ]
  },
  {
   "cell_type": "code",
   "execution_count": 93,
   "id": "73696d99-7b81-4710-8e02-4e7224526dbb",
   "metadata": {},
   "outputs": [
    {
     "name": "stdout",
     "output_type": "stream",
     "text": [
      "<class 'pandas.core.frame.DataFrame'>\n",
      "RangeIndex: 25 entries, 0 to 24\n",
      "Data columns (total 8 columns):\n",
      " #   Column                 Non-Null Count  Dtype  \n",
      "---  ------                 --------------  -----  \n",
      " 0   Stock Ticker           25 non-null     object \n",
      " 1   Company Name           25 non-null     object \n",
      " 2   Current Price          25 non-null     float64\n",
      " 3   Change in Price        25 non-null     float64\n",
      " 4   %age Change in Price   25 non-null     object \n",
      " 5   Traded Volume          25 non-null     float64\n",
      " 6   Quaterly Volume        25 non-null     float64\n",
      " 7   Market Capitalization  25 non-null     float64\n",
      "dtypes: float64(5), object(3)\n",
      "memory usage: 1.7+ KB\n"
     ]
    }
   ],
   "source": [
    "us_stock_dataset.info()"
   ]
  },
  {
   "cell_type": "code",
   "execution_count": null,
   "id": "96f3688f-9c77-467e-88b5-b1952302e405",
   "metadata": {},
   "outputs": [],
   "source": []
  },
  {
   "cell_type": "code",
   "execution_count": 94,
   "id": "587c56e2-a9e3-4eac-8f2d-6cdac347cb7a",
   "metadata": {},
   "outputs": [],
   "source": [
    "df = us_stock_dataset['Current Price'].sum()"
   ]
  },
  {
   "cell_type": "code",
   "execution_count": 95,
   "id": "ca12eb9c-d0cb-4e4e-be7d-01a99313f137",
   "metadata": {},
   "outputs": [
    {
     "data": {
      "text/plain": [
       "1253.4099999999999"
      ]
     },
     "execution_count": 95,
     "metadata": {},
     "output_type": "execute_result"
    }
   ],
   "source": [
    "df"
   ]
  },
  {
   "cell_type": "code",
   "execution_count": 96,
   "id": "79690c63-0a34-4a7e-a326-1cef5c15364a",
   "metadata": {},
   "outputs": [],
   "source": [
    "mean_df = us_stock_dataset['Current Price'].mean()"
   ]
  },
  {
   "cell_type": "code",
   "execution_count": 97,
   "id": "4305ef41-3c2a-4fc9-88d6-812ccb4b4769",
   "metadata": {},
   "outputs": [
    {
     "data": {
      "text/plain": [
       "50.136399999999995"
      ]
     },
     "execution_count": 97,
     "metadata": {},
     "output_type": "execute_result"
    }
   ],
   "source": [
    "mean_df"
   ]
  },
  {
   "cell_type": "code",
   "execution_count": null,
   "id": "0d9e519a-ed36-473f-bb85-d5125bf3ec17",
   "metadata": {},
   "outputs": [],
   "source": []
  }
 ],
 "metadata": {
  "kernelspec": {
   "display_name": "Python 3",
   "language": "python",
   "name": "python3"
  },
  "language_info": {
   "codemirror_mode": {
    "name": "ipython",
    "version": 3
   },
   "file_extension": ".py",
   "mimetype": "text/x-python",
   "name": "python",
   "nbconvert_exporter": "python",
   "pygments_lexer": "ipython3",
   "version": "3.9.5"
  }
 },
 "nbformat": 4,
 "nbformat_minor": 5
}
