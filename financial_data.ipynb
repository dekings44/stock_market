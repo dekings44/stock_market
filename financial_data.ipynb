{
 "cells": [
  {
   "cell_type": "code",
   "execution_count": 1,
   "id": "4502de21-516e-4fda-bf79-c594c53430b8",
   "metadata": {},
   "outputs": [],
   "source": [
    "import requests as rq\n",
    "from bs4 import BeautifulSoup as bs"
   ]
  },
  {
   "cell_type": "code",
   "execution_count": 2,
   "id": "6e578ee0-862c-4d91-b0de-fe73b31f6038",
   "metadata": {},
   "outputs": [],
   "source": [
    "url = rq.get('https://finance.yahoo.com/most-active')"
   ]
  },
  {
   "cell_type": "code",
   "execution_count": 3,
   "id": "c34c3f63-4638-4d7c-a616-268b839033fe",
   "metadata": {},
   "outputs": [
    {
     "data": {
      "text/plain": [
       "200"
      ]
     },
     "execution_count": 3,
     "metadata": {},
     "output_type": "execute_result"
    }
   ],
   "source": [
    "url.status_code"
   ]
  },
  {
   "cell_type": "code",
   "execution_count": 4,
   "id": "7fedecb5-b8a7-4979-bc30-cd00d74fdcb3",
   "metadata": {},
   "outputs": [],
   "source": [
    "response = url.text"
   ]
  },
  {
   "cell_type": "code",
   "execution_count": 5,
   "id": "23b43711-684c-4c29-babf-6331b07939a9",
   "metadata": {},
   "outputs": [
    {
     "name": "stdout",
     "output_type": "stream",
     "text": [
      "1008131\n"
     ]
    }
   ],
   "source": [
    "print(len(response))"
   ]
  },
  {
   "cell_type": "code",
   "execution_count": 6,
   "id": "12e5f56a-c623-402f-b617-d7545295d943",
   "metadata": {},
   "outputs": [],
   "source": [
    "page_info = bs(response, 'html.parser')"
   ]
  },
  {
   "cell_type": "code",
   "execution_count": 7,
   "id": "da752aa9-6ef7-450a-99a5-5ad7ba2676d9",
   "metadata": {},
   "outputs": [],
   "source": [
    "tickers = page_info.find_all('a', 'Fw(600) C($linkColor)')"
   ]
  },
  {
   "cell_type": "code",
   "execution_count": null,
   "id": "ff198ec9-30dc-4991-9f85-c9b43e52ca4d",
   "metadata": {},
   "outputs": [],
   "source": []
  },
  {
   "cell_type": "code",
   "execution_count": 8,
   "id": "b8ac239a-9d6e-4918-a8fb-6703f08460e8",
   "metadata": {},
   "outputs": [
    {
     "data": {
      "text/plain": [
       "[<a class=\"Fw(600) C($linkColor)\" data-reactid=\"79\" data-test=\"quoteLink\" href=\"/quote/DIDI?p=DIDI\" title=\"DiDi Global Inc.\">DIDI</a>,\n",
       " <a class=\"Fw(600) C($linkColor)\" data-reactid=\"111\" data-test=\"quoteLink\" href=\"/quote/F?p=F\" title=\"Ford Motor Company\">F</a>]"
      ]
     },
     "execution_count": 8,
     "metadata": {},
     "output_type": "execute_result"
    }
   ],
   "source": [
    "tickers[:2]"
   ]
  },
  {
   "cell_type": "code",
   "execution_count": 9,
   "id": "72181f92-b444-4af8-a43a-1c7139157410",
   "metadata": {},
   "outputs": [],
   "source": [
    "the_tickers = [stock_name.text for stock_name in tickers]"
   ]
  },
  {
   "cell_type": "code",
   "execution_count": 10,
   "id": "edce01d8-ee2f-4720-9e84-ab28b0e1b109",
   "metadata": {},
   "outputs": [
    {
     "name": "stdout",
     "output_type": "stream",
     "text": [
      "['DIDI', 'F', 'AAPL', 'NIO', 'LCID', 'DOCU', 'BABA', 'T', 'AMC', 'AMD', 'SOFI', 'EDU', 'AAL', 'BAC', 'CCL', 'ITUB', 'PLTR', 'BBD', 'NVDA', 'MRVL', 'UBER', 'PBR', 'VALE', 'RLX', 'ZNGA']\n"
     ]
    }
   ],
   "source": [
    "print(the_tickers)"
   ]
  },
  {
   "cell_type": "code",
   "execution_count": 11,
   "id": "a4203d1e-fb5c-430a-9d5d-4b229588af9a",
   "metadata": {},
   "outputs": [],
   "source": [
    "company = page_info.find_all('td', 'Va(m) Ta(start) Px(10px) Fz(s)')"
   ]
  },
  {
   "cell_type": "code",
   "execution_count": 12,
   "id": "35237767-8097-4c6e-bdcb-32b03888ac9a",
   "metadata": {},
   "outputs": [
    {
     "data": {
      "text/plain": [
       "[<td aria-label=\"Name\" class=\"Va(m) Ta(start) Px(10px) Fz(s)\" colspan=\"\" data-reactid=\"81\"><!-- react-text: 82 -->DiDi Global Inc.<!-- /react-text --></td>,\n",
       " <td aria-label=\"Name\" class=\"Va(m) Ta(start) Px(10px) Fz(s)\" colspan=\"\" data-reactid=\"113\"><!-- react-text: 114 -->Ford Motor Company<!-- /react-text --></td>,\n",
       " <td aria-label=\"Name\" class=\"Va(m) Ta(start) Px(10px) Fz(s)\" colspan=\"\" data-reactid=\"145\"><!-- react-text: 146 -->Apple Inc.<!-- /react-text --></td>,\n",
       " <td aria-label=\"Name\" class=\"Va(m) Ta(start) Px(10px) Fz(s)\" colspan=\"\" data-reactid=\"177\"><!-- react-text: 178 -->NIO Inc.<!-- /react-text --></td>,\n",
       " <td aria-label=\"Name\" class=\"Va(m) Ta(start) Px(10px) Fz(s)\" colspan=\"\" data-reactid=\"209\"><!-- react-text: 210 -->Lucid Group, Inc.<!-- /react-text --></td>]"
      ]
     },
     "execution_count": 12,
     "metadata": {},
     "output_type": "execute_result"
    }
   ],
   "source": [
    "company[:5]"
   ]
  },
  {
   "cell_type": "code",
   "execution_count": 13,
   "id": "b3ec01c6-6fce-4c19-8949-14f84a88ef33",
   "metadata": {},
   "outputs": [],
   "source": [
    "all_company = [comp.text for comp in company]"
   ]
  },
  {
   "cell_type": "code",
   "execution_count": 14,
   "id": "859a05c0-ce30-4b90-a43d-b84b44aa6c96",
   "metadata": {},
   "outputs": [
    {
     "name": "stdout",
     "output_type": "stream",
     "text": [
      "['DiDi Global Inc.', 'Ford Motor Company', 'Apple Inc.', 'NIO Inc.', 'Lucid Group, Inc.', 'DocuSign, Inc.', 'Alibaba Group Holding Limited', 'AT&T Inc.', 'AMC Entertainment Holdings, Inc.', 'Advanced Micro Devices, Inc.', 'SoFi Technologies, Inc.', 'New Oriental Education & Technology Group Inc.', 'American Airlines Group Inc.', 'Bank of America Corporation', 'Carnival Corporation & plc', 'Itaú Unibanco Holding S.A.', 'Palantir Technologies Inc.', 'Banco Bradesco S.A.', 'NVIDIA Corporation', 'Marvell Technology, Inc.', 'Uber Technologies, Inc.', 'Petróleo Brasileiro S.A. - Petrobras', 'Vale S.A.', 'RLX Technology Inc.', 'Zynga Inc.']\n"
     ]
    }
   ],
   "source": [
    "print(all_company)"
   ]
  },
  {
   "cell_type": "code",
   "execution_count": 15,
   "id": "36cbc0d3-27d7-4202-b653-a4d2a0ada255",
   "metadata": {},
   "outputs": [],
   "source": [
    "intrday_price = page_info.find_all('td', {'aria-label':'Price (Intraday)'})"
   ]
  },
  {
   "cell_type": "code",
   "execution_count": 16,
   "id": "4c38cb61-89ca-433e-8bb9-6408e0c20fe7",
   "metadata": {
    "tags": []
   },
   "outputs": [
    {
     "data": {
      "text/plain": [
       "[<td aria-label=\"Price (Intraday)\" class=\"Va(m) Ta(end) Pstart(20px) Fw(600) Fz(s)\" colspan=\"\" data-reactid=\"83\"><fin-streamer active=\"\" class=\"\" data-field=\"regularMarketPrice\" data-pricehint=\"2\" data-reactid=\"84\" data-symbol=\"DIDI\" data-test=\"colorChange\" data-trend=\"none\" value=\"6.07\">6.07</fin-streamer></td>,\n",
       " <td aria-label=\"Price (Intraday)\" class=\"Va(m) Ta(end) Pstart(20px) Fw(600) Fz(s)\" colspan=\"\" data-reactid=\"115\"><fin-streamer active=\"\" class=\"\" data-field=\"regularMarketPrice\" data-pricehint=\"2\" data-reactid=\"116\" data-symbol=\"F\" data-test=\"colorChange\" data-trend=\"none\" value=\"19.14\">19.14</fin-streamer></td>,\n",
       " <td aria-label=\"Price (Intraday)\" class=\"Va(m) Ta(end) Pstart(20px) Fw(600) Fz(s)\" colspan=\"\" data-reactid=\"147\"><fin-streamer active=\"\" class=\"\" data-field=\"regularMarketPrice\" data-pricehint=\"2\" data-reactid=\"148\" data-symbol=\"AAPL\" data-test=\"colorChange\" data-trend=\"none\" value=\"161.84\">161.84</fin-streamer></td>,\n",
       " <td aria-label=\"Price (Intraday)\" class=\"Va(m) Ta(end) Pstart(20px) Fw(600) Fz(s)\" colspan=\"\" data-reactid=\"179\"><fin-streamer active=\"\" class=\"\" data-field=\"regularMarketPrice\" data-pricehint=\"2\" data-reactid=\"180\" data-symbol=\"NIO\" data-test=\"colorChange\" data-trend=\"none\" value=\"32.15\">32.15</fin-streamer></td>,\n",
       " <td aria-label=\"Price (Intraday)\" class=\"Va(m) Ta(end) Pstart(20px) Fw(600) Fz(s)\" colspan=\"\" data-reactid=\"211\"><fin-streamer active=\"\" class=\"\" data-field=\"regularMarketPrice\" data-pricehint=\"2\" data-reactid=\"212\" data-symbol=\"LCID\" data-test=\"colorChange\" data-trend=\"none\" value=\"47.27\">47.27</fin-streamer></td>]"
      ]
     },
     "execution_count": 16,
     "metadata": {},
     "output_type": "execute_result"
    }
   ],
   "source": [
    "intrday_price[:5]"
   ]
  },
  {
   "cell_type": "code",
   "execution_count": 17,
   "id": "866040e1-4475-406b-9658-8ca417ea46fb",
   "metadata": {},
   "outputs": [],
   "source": [
    "all_price = [float(price.text) for price in intrday_price]"
   ]
  },
  {
   "cell_type": "code",
   "execution_count": 18,
   "id": "b6e93b8f-c46f-40f4-bbaf-8999b6b17e04",
   "metadata": {},
   "outputs": [
    {
     "data": {
      "text/plain": [
       "[6.07,\n",
       " 19.14,\n",
       " 161.84,\n",
       " 32.15,\n",
       " 47.27,\n",
       " 135.09,\n",
       " 111.96,\n",
       " 23.46,\n",
       " 29.01,\n",
       " 144.01,\n",
       " 15.19,\n",
       " 1.87,\n",
       " 16.62,\n",
       " 43.87,\n",
       " 17.2,\n",
       " 3.98,\n",
       " 18.98,\n",
       " 3.63,\n",
       " 306.93,\n",
       " 83.59,\n",
       " 35.85,\n",
       " 10.63,\n",
       " 12.73,\n",
       " 3.69,\n",
       " 6.11]"
      ]
     },
     "execution_count": 18,
     "metadata": {},
     "output_type": "execute_result"
    }
   ],
   "source": [
    "all_price"
   ]
  },
  {
   "cell_type": "code",
   "execution_count": 19,
   "id": "934256cf-deda-4a62-91ce-ca82df852af6",
   "metadata": {},
   "outputs": [],
   "source": [
    "price_change1 = page_info.find_all('td', {'aria-label': 'Change'})"
   ]
  },
  {
   "cell_type": "code",
   "execution_count": 20,
   "id": "788331f8-24d9-4c95-a703-4c0ec4d27b10",
   "metadata": {},
   "outputs": [],
   "source": [
    "all_price_changes1 = [price1.text for price1 in price_change1]"
   ]
  },
  {
   "cell_type": "code",
   "execution_count": 21,
   "id": "e6301202-649c-43d5-a21f-38a904e894ec",
   "metadata": {},
   "outputs": [
    {
     "data": {
      "text/plain": [
       "['-1.73',\n",
       " '-0.73',\n",
       " '-1.92',\n",
       " '-4.05',\n",
       " '-1.14',\n",
       " '-98.73',\n",
       " '-10.04',\n",
       " '+0.41',\n",
       " '-1.27',\n",
       " '-6.67',\n",
       " '-1.24',\n",
       " '-0.1900',\n",
       " '-0.80',\n",
       " '-1.02',\n",
       " '-0.69',\n",
       " '-0.0800',\n",
       " '-0.71',\n",
       " '-0.0400',\n",
       " '-14.33',\n",
       " '+12.56',\n",
       " '-2.27',\n",
       " '+0.16',\n",
       " '-0.26',\n",
       " '-0.7400',\n",
       " '+0.34']"
      ]
     },
     "execution_count": 21,
     "metadata": {},
     "output_type": "execute_result"
    }
   ],
   "source": [
    "all_price_changes1"
   ]
  },
  {
   "cell_type": "code",
   "execution_count": 22,
   "id": "2737a397-bfc1-429f-b48d-e7fb9a7f97ec",
   "metadata": {},
   "outputs": [],
   "source": [
    "price_change = page_info.find_all('td', {'aria-label':'Change'})"
   ]
  },
  {
   "cell_type": "code",
   "execution_count": 23,
   "id": "e5686dc7-bcc2-49b5-b1a7-6124640d6cfa",
   "metadata": {},
   "outputs": [],
   "source": [
    "all_price_changes = [float(price.text) for price in price_change]"
   ]
  },
  {
   "cell_type": "code",
   "execution_count": 24,
   "id": "7b111461-b88a-453d-a6df-906035acc77b",
   "metadata": {},
   "outputs": [
    {
     "data": {
      "text/plain": [
       "[-1.73,\n",
       " -0.73,\n",
       " -1.92,\n",
       " -4.05,\n",
       " -1.14,\n",
       " -98.73,\n",
       " -10.04,\n",
       " 0.41,\n",
       " -1.27,\n",
       " -6.67,\n",
       " -1.24,\n",
       " -0.19,\n",
       " -0.8,\n",
       " -1.02,\n",
       " -0.69,\n",
       " -0.08,\n",
       " -0.71,\n",
       " -0.04,\n",
       " -14.33,\n",
       " 12.56,\n",
       " -2.27,\n",
       " 0.16,\n",
       " -0.26,\n",
       " -0.74,\n",
       " 0.34]"
      ]
     },
     "execution_count": 24,
     "metadata": {},
     "output_type": "execute_result"
    }
   ],
   "source": [
    "all_price_changes"
   ]
  },
  {
   "cell_type": "code",
   "execution_count": 25,
   "id": "497750a8-4ac9-430d-935f-e92204803831",
   "metadata": {},
   "outputs": [],
   "source": [
    "perc_price_change = page_info.find_all('td', {'aria-label':'% Change'})"
   ]
  },
  {
   "cell_type": "code",
   "execution_count": 26,
   "id": "cbdec3d1-afc0-4c27-a16b-90e28b72bfd1",
   "metadata": {},
   "outputs": [],
   "source": [
    "all_price_changes_perc = [price_perc.text for price_perc in perc_price_change]"
   ]
  },
  {
   "cell_type": "code",
   "execution_count": 27,
   "id": "c7191d27-77c7-4798-bb14-a29c890d7214",
   "metadata": {},
   "outputs": [
    {
     "data": {
      "text/plain": [
       "['-22.18%',\n",
       " '-3.67%',\n",
       " '-1.17%',\n",
       " '-11.19%',\n",
       " '-2.35%',\n",
       " '-42.22%',\n",
       " '-8.23%',\n",
       " '+1.78%',\n",
       " '-4.19%',\n",
       " '-4.43%',\n",
       " '-7.55%',\n",
       " '-9.22%',\n",
       " '-4.59%',\n",
       " '-2.27%',\n",
       " '-3.86%',\n",
       " '-1.97%',\n",
       " '-3.61%',\n",
       " '-1.09%',\n",
       " '-4.46%',\n",
       " '+17.68%',\n",
       " '-5.95%',\n",
       " '+1.53%',\n",
       " '-2.00%',\n",
       " '-16.70%',\n",
       " '+5.89%']"
      ]
     },
     "execution_count": 27,
     "metadata": {},
     "output_type": "execute_result"
    }
   ],
   "source": [
    "all_price_changes_perc"
   ]
  },
  {
   "cell_type": "code",
   "execution_count": 28,
   "id": "b457843e-6aa7-4f5e-b0b8-a159140d4aa6",
   "metadata": {},
   "outputs": [],
   "source": [
    "volume = page_info.find_all('td', {'aria-label':'Volume'})"
   ]
  },
  {
   "cell_type": "code",
   "execution_count": 29,
   "id": "1a225944-a596-4005-9a26-6826489af613",
   "metadata": {},
   "outputs": [],
   "source": [
    "all_stock_volumes = [stock_vol.text for stock_vol in volume]"
   ]
  },
  {
   "cell_type": "code",
   "execution_count": 30,
   "id": "b19d37dd-ecc1-4d07-a96a-42456f8b0895",
   "metadata": {},
   "outputs": [
    {
     "data": {
      "text/plain": [
       "['120.199M',\n",
       " '118.193M',\n",
       " '118.023M',\n",
       " '105.999M',\n",
       " '76.441M',\n",
       " '76.139M',\n",
       " '68.956M',\n",
       " '70.506M',\n",
       " '65.659M',\n",
       " '65.91M',\n",
       " '64.351M',\n",
       " '61.172M',\n",
       " '57.884M',\n",
       " '74.565M',\n",
       " '59.21M',\n",
       " '56.853M',\n",
       " '55.887M',\n",
       " '55.56M',\n",
       " '54.433M',\n",
       " '51.024M',\n",
       " '43.018M',\n",
       " '45.022M',\n",
       " '43.758M',\n",
       " '38.329M',\n",
       " '38.599M']"
      ]
     },
     "execution_count": 30,
     "metadata": {},
     "output_type": "execute_result"
    }
   ],
   "source": [
    "all_stock_volumes"
   ]
  },
  {
   "cell_type": "code",
   "execution_count": 31,
   "id": "8a682764-31ab-4a68-a965-fc900e52e0b8",
   "metadata": {},
   "outputs": [],
   "source": [
    "all_stock_volumes1 = [float(stock_vol.text.replace('M', '')) * 1000000  for stock_vol in volume]"
   ]
  },
  {
   "cell_type": "code",
   "execution_count": 32,
   "id": "8bc947c4-4635-4ccf-a6a7-166ff0355993",
   "metadata": {},
   "outputs": [
    {
     "data": {
      "text/plain": [
       "[120199000.0,\n",
       " 118193000.0,\n",
       " 118023000.0,\n",
       " 105999000.0,\n",
       " 76441000.0,\n",
       " 76139000.0,\n",
       " 68956000.0,\n",
       " 70506000.0,\n",
       " 65659000.00000001,\n",
       " 65910000.0,\n",
       " 64351000.0,\n",
       " 61172000.0,\n",
       " 57884000.0,\n",
       " 74565000.0,\n",
       " 59210000.0,\n",
       " 56853000.0,\n",
       " 55887000.0,\n",
       " 55560000.0,\n",
       " 54433000.0,\n",
       " 51024000.0,\n",
       " 43018000.0,\n",
       " 45022000.0,\n",
       " 43758000.0,\n",
       " 38329000.0,\n",
       " 38599000.0]"
      ]
     },
     "execution_count": 32,
     "metadata": {},
     "output_type": "execute_result"
    }
   ],
   "source": [
    "all_stock_volumes1"
   ]
  },
  {
   "cell_type": "code",
   "execution_count": 33,
   "id": "369fecb8-ee5c-417a-9f5f-e69923975cae",
   "metadata": {},
   "outputs": [
    {
     "data": {
      "text/plain": [
       "['20.213M',\n",
       " '88.128M',\n",
       " '83.343M',\n",
       " '39.537M',\n",
       " '69.175M',\n",
       " '3.331M',\n",
       " '23.003M',\n",
       " '45.004M',\n",
       " '46.418M',\n",
       " '51.357M',\n",
       " '29.67M',\n",
       " '39.296M',\n",
       " '33.513M',\n",
       " '45.859M',\n",
       " '34.286M',\n",
       " '40.283M',\n",
       " '45.482M',\n",
       " '37.722M',\n",
       " '34.301M',\n",
       " '6.831M',\n",
       " '27.177M',\n",
       " '29.625M',\n",
       " '38.06M',\n",
       " '13.21M',\n",
       " '22.676M']"
      ]
     },
     "execution_count": 33,
     "metadata": {},
     "output_type": "execute_result"
    }
   ],
   "source": [
    "Avg_quarterly_volume = page_info.find_all('td', {'aria-label':'Avg Vol (3 month)'})\n",
    "all_quarterly_stock_volumes = [quat_stock_vol.text for quat_stock_vol in Avg_quarterly_volume]\n",
    "all_quarterly_stock_volumes\n",
    "\n"
   ]
  },
  {
   "cell_type": "code",
   "execution_count": 34,
   "id": "7f0edb4b-c454-44ef-abfb-82225eb8694d",
   "metadata": {},
   "outputs": [],
   "source": [
    "all_quarterly_stock_volumes1 = [float(quat_stock_vol.text.replace('M', '')) * 1000000  for quat_stock_vol in Avg_quarterly_volume]"
   ]
  },
  {
   "cell_type": "code",
   "execution_count": 35,
   "id": "73fdca0b-20ad-4793-b8cd-6ce6fe5b1b25",
   "metadata": {},
   "outputs": [
    {
     "data": {
      "text/plain": [
       "[20213000.0,\n",
       " 88128000.0,\n",
       " 83343000.0,\n",
       " 39537000.0,\n",
       " 69175000.0,\n",
       " 3331000.0,\n",
       " 23003000.0,\n",
       " 45004000.0,\n",
       " 46418000.0,\n",
       " 51357000.0,\n",
       " 29670000.0,\n",
       " 39296000.0,\n",
       " 33512999.999999996,\n",
       " 45859000.0,\n",
       " 34286000.0,\n",
       " 40283000.0,\n",
       " 45482000.0,\n",
       " 37722000.0,\n",
       " 34301000.0,\n",
       " 6831000.0,\n",
       " 27177000.0,\n",
       " 29625000.0,\n",
       " 38060000.0,\n",
       " 13210000.0,\n",
       " 22676000.0]"
      ]
     },
     "execution_count": 35,
     "metadata": {},
     "output_type": "execute_result"
    }
   ],
   "source": [
    "all_quarterly_stock_volumes1"
   ]
  },
  {
   "cell_type": "code",
   "execution_count": 36,
   "id": "bbd88472-4231-4f61-a51f-4724b1eeb486",
   "metadata": {
    "tags": []
   },
   "outputs": [
    {
     "data": {
      "text/plain": [
       "['29.277B',\n",
       " '79.405B',\n",
       " '2.655T',\n",
       " '51.137B',\n",
       " '77.824B',\n",
       " '26.575B',\n",
       " '332.315B',\n",
       " '167.528B',\n",
       " '14.892B',\n",
       " '173.908B',\n",
       " '12.146B',\n",
       " '3.397B',\n",
       " '10.762B',\n",
       " '359.036B',\n",
       " '20.051B',\n",
       " '38.924B',\n",
       " '39.475B',\n",
       " '35.173B',\n",
       " '764.87B',\n",
       " '68.847B',\n",
       " '69.553B',\n",
       " '69.33B',\n",
       " '63.545B',\n",
       " '5.796B',\n",
       " '6.844B']"
      ]
     },
     "execution_count": 36,
     "metadata": {},
     "output_type": "execute_result"
    }
   ],
   "source": [
    "market_capitalization = page_info.find_all('td', {'aria-label':'Market Cap'})\n",
    "all_market_cap = [market_cap.text for market_cap in market_capitalization]\n",
    "all_market_cap\n",
    "\n",
    "\n"
   ]
  },
  {
   "cell_type": "code",
   "execution_count": 37,
   "id": "978fd56b-9b03-40ae-b700-9bcf653cc1ca",
   "metadata": {},
   "outputs": [
    {
     "data": {
      "text/plain": [
       "[29277000000.0,\n",
       " 79405000000.0,\n",
       " 2655000000000.0,\n",
       " 51137000000.0,\n",
       " 77824000000.0,\n",
       " 26575000000.0,\n",
       " 332315000000.0,\n",
       " 167528000000.0,\n",
       " 14892000000.0,\n",
       " 173908000000.0,\n",
       " 12146000000.0,\n",
       " 3397000000.0,\n",
       " 10762000000.0,\n",
       " 359036000000.0,\n",
       " 20051000000.0,\n",
       " 38924000000.0,\n",
       " 39475000000.0,\n",
       " 35173000000.0,\n",
       " 764870000000.0,\n",
       " 68847000000.0,\n",
       " 69553000000.0,\n",
       " 69330000000.0,\n",
       " 63545000000.0,\n",
       " 5796000000.0,\n",
       " 6844000000.0]"
      ]
     },
     "execution_count": 37,
     "metadata": {},
     "output_type": "execute_result"
    }
   ],
   "source": [
    "all_market_cap1 = [float(mark_cap.text.replace('B', '')) * 1000000000 if 'B' in mark_cap.text \n",
    "                   else float(mark_cap.text.replace('T', '')) * 1000000000000 if 'T' in mark_cap.text \n",
    "                   else float(mark_cap.text.replace('M', '')) * 1000000 for mark_cap in market_capitalization]\n",
    "all_market_cap1\n",
    "\n"
   ]
  },
  {
   "cell_type": "code",
   "execution_count": 38,
   "id": "83620638-ab8e-4fd8-b6b6-030a12b18afa",
   "metadata": {},
   "outputs": [],
   "source": [
    "stock_data = {\n",
    "'Stock Ticker': the_tickers,\n",
    "'Company Name': all_company,\n",
    "'Current Price': all_price,\n",
    "'Change in Price': all_price_changes,\n",
    "'%age Change in Price': all_price_changes_perc,\n",
    "'Traded Volume': all_stock_volumes1,\n",
    "'Quaterly Volume': all_quarterly_stock_volumes1,\n",
    "'Market Capitalization': all_market_cap1\n",
    "}"
   ]
  },
  {
   "cell_type": "code",
   "execution_count": 39,
   "id": "40adb038-4d5b-461d-8a7e-8d933b40bce3",
   "metadata": {},
   "outputs": [
    {
     "data": {
      "text/plain": [
       "dict"
      ]
     },
     "execution_count": 39,
     "metadata": {},
     "output_type": "execute_result"
    }
   ],
   "source": [
    "type(stock_data)"
   ]
  },
  {
   "cell_type": "code",
   "execution_count": 40,
   "id": "634e5ab1-79cc-48a5-8c8c-819c35e8daa4",
   "metadata": {},
   "outputs": [],
   "source": [
    "import pandas as pd"
   ]
  },
  {
   "cell_type": "code",
   "execution_count": 41,
   "id": "1e57f3a5-a583-4813-a94f-d7c6e6e23074",
   "metadata": {},
   "outputs": [],
   "source": [
    "us_stock_dataset = pd.DataFrame(stock_data)"
   ]
  },
  {
   "cell_type": "code",
   "execution_count": 42,
   "id": "4d46b163-90c3-4319-8ec5-16a8ee53976a",
   "metadata": {},
   "outputs": [
    {
     "data": {
      "text/html": [
       "<div>\n",
       "<style scoped>\n",
       "    .dataframe tbody tr th:only-of-type {\n",
       "        vertical-align: middle;\n",
       "    }\n",
       "\n",
       "    .dataframe tbody tr th {\n",
       "        vertical-align: top;\n",
       "    }\n",
       "\n",
       "    .dataframe thead th {\n",
       "        text-align: right;\n",
       "    }\n",
       "</style>\n",
       "<table border=\"1\" class=\"dataframe\">\n",
       "  <thead>\n",
       "    <tr style=\"text-align: right;\">\n",
       "      <th></th>\n",
       "      <th>Stock Ticker</th>\n",
       "      <th>Company Name</th>\n",
       "      <th>Current Price</th>\n",
       "      <th>Change in Price</th>\n",
       "      <th>%age Change in Price</th>\n",
       "      <th>Traded Volume</th>\n",
       "      <th>Quaterly Volume</th>\n",
       "      <th>Market Capitalization</th>\n",
       "    </tr>\n",
       "  </thead>\n",
       "  <tbody>\n",
       "    <tr>\n",
       "      <th>0</th>\n",
       "      <td>DIDI</td>\n",
       "      <td>DiDi Global Inc.</td>\n",
       "      <td>6.07</td>\n",
       "      <td>-1.73</td>\n",
       "      <td>-22.18%</td>\n",
       "      <td>120199000.0</td>\n",
       "      <td>20213000.0</td>\n",
       "      <td>2.927700e+10</td>\n",
       "    </tr>\n",
       "    <tr>\n",
       "      <th>1</th>\n",
       "      <td>F</td>\n",
       "      <td>Ford Motor Company</td>\n",
       "      <td>19.14</td>\n",
       "      <td>-0.73</td>\n",
       "      <td>-3.67%</td>\n",
       "      <td>118193000.0</td>\n",
       "      <td>88128000.0</td>\n",
       "      <td>7.940500e+10</td>\n",
       "    </tr>\n",
       "    <tr>\n",
       "      <th>2</th>\n",
       "      <td>AAPL</td>\n",
       "      <td>Apple Inc.</td>\n",
       "      <td>161.84</td>\n",
       "      <td>-1.92</td>\n",
       "      <td>-1.17%</td>\n",
       "      <td>118023000.0</td>\n",
       "      <td>83343000.0</td>\n",
       "      <td>2.655000e+12</td>\n",
       "    </tr>\n",
       "    <tr>\n",
       "      <th>3</th>\n",
       "      <td>NIO</td>\n",
       "      <td>NIO Inc.</td>\n",
       "      <td>32.15</td>\n",
       "      <td>-4.05</td>\n",
       "      <td>-11.19%</td>\n",
       "      <td>105999000.0</td>\n",
       "      <td>39537000.0</td>\n",
       "      <td>5.113700e+10</td>\n",
       "    </tr>\n",
       "    <tr>\n",
       "      <th>4</th>\n",
       "      <td>LCID</td>\n",
       "      <td>Lucid Group, Inc.</td>\n",
       "      <td>47.27</td>\n",
       "      <td>-1.14</td>\n",
       "      <td>-2.35%</td>\n",
       "      <td>76441000.0</td>\n",
       "      <td>69175000.0</td>\n",
       "      <td>7.782400e+10</td>\n",
       "    </tr>\n",
       "    <tr>\n",
       "      <th>5</th>\n",
       "      <td>DOCU</td>\n",
       "      <td>DocuSign, Inc.</td>\n",
       "      <td>135.09</td>\n",
       "      <td>-98.73</td>\n",
       "      <td>-42.22%</td>\n",
       "      <td>76139000.0</td>\n",
       "      <td>3331000.0</td>\n",
       "      <td>2.657500e+10</td>\n",
       "    </tr>\n",
       "    <tr>\n",
       "      <th>6</th>\n",
       "      <td>BABA</td>\n",
       "      <td>Alibaba Group Holding Limited</td>\n",
       "      <td>111.96</td>\n",
       "      <td>-10.04</td>\n",
       "      <td>-8.23%</td>\n",
       "      <td>68956000.0</td>\n",
       "      <td>23003000.0</td>\n",
       "      <td>3.323150e+11</td>\n",
       "    </tr>\n",
       "    <tr>\n",
       "      <th>7</th>\n",
       "      <td>T</td>\n",
       "      <td>AT&amp;T Inc.</td>\n",
       "      <td>23.46</td>\n",
       "      <td>0.41</td>\n",
       "      <td>+1.78%</td>\n",
       "      <td>70506000.0</td>\n",
       "      <td>45004000.0</td>\n",
       "      <td>1.675280e+11</td>\n",
       "    </tr>\n",
       "    <tr>\n",
       "      <th>8</th>\n",
       "      <td>AMC</td>\n",
       "      <td>AMC Entertainment Holdings, Inc.</td>\n",
       "      <td>29.01</td>\n",
       "      <td>-1.27</td>\n",
       "      <td>-4.19%</td>\n",
       "      <td>65659000.0</td>\n",
       "      <td>46418000.0</td>\n",
       "      <td>1.489200e+10</td>\n",
       "    </tr>\n",
       "    <tr>\n",
       "      <th>9</th>\n",
       "      <td>AMD</td>\n",
       "      <td>Advanced Micro Devices, Inc.</td>\n",
       "      <td>144.01</td>\n",
       "      <td>-6.67</td>\n",
       "      <td>-4.43%</td>\n",
       "      <td>65910000.0</td>\n",
       "      <td>51357000.0</td>\n",
       "      <td>1.739080e+11</td>\n",
       "    </tr>\n",
       "    <tr>\n",
       "      <th>10</th>\n",
       "      <td>SOFI</td>\n",
       "      <td>SoFi Technologies, Inc.</td>\n",
       "      <td>15.19</td>\n",
       "      <td>-1.24</td>\n",
       "      <td>-7.55%</td>\n",
       "      <td>64351000.0</td>\n",
       "      <td>29670000.0</td>\n",
       "      <td>1.214600e+10</td>\n",
       "    </tr>\n",
       "    <tr>\n",
       "      <th>11</th>\n",
       "      <td>EDU</td>\n",
       "      <td>New Oriental Education &amp; Technology Group Inc.</td>\n",
       "      <td>1.87</td>\n",
       "      <td>-0.19</td>\n",
       "      <td>-9.22%</td>\n",
       "      <td>61172000.0</td>\n",
       "      <td>39296000.0</td>\n",
       "      <td>3.397000e+09</td>\n",
       "    </tr>\n",
       "    <tr>\n",
       "      <th>12</th>\n",
       "      <td>AAL</td>\n",
       "      <td>American Airlines Group Inc.</td>\n",
       "      <td>16.62</td>\n",
       "      <td>-0.80</td>\n",
       "      <td>-4.59%</td>\n",
       "      <td>57884000.0</td>\n",
       "      <td>33513000.0</td>\n",
       "      <td>1.076200e+10</td>\n",
       "    </tr>\n",
       "    <tr>\n",
       "      <th>13</th>\n",
       "      <td>BAC</td>\n",
       "      <td>Bank of America Corporation</td>\n",
       "      <td>43.87</td>\n",
       "      <td>-1.02</td>\n",
       "      <td>-2.27%</td>\n",
       "      <td>74565000.0</td>\n",
       "      <td>45859000.0</td>\n",
       "      <td>3.590360e+11</td>\n",
       "    </tr>\n",
       "    <tr>\n",
       "      <th>14</th>\n",
       "      <td>CCL</td>\n",
       "      <td>Carnival Corporation &amp; plc</td>\n",
       "      <td>17.20</td>\n",
       "      <td>-0.69</td>\n",
       "      <td>-3.86%</td>\n",
       "      <td>59210000.0</td>\n",
       "      <td>34286000.0</td>\n",
       "      <td>2.005100e+10</td>\n",
       "    </tr>\n",
       "    <tr>\n",
       "      <th>15</th>\n",
       "      <td>ITUB</td>\n",
       "      <td>Itaú Unibanco Holding S.A.</td>\n",
       "      <td>3.98</td>\n",
       "      <td>-0.08</td>\n",
       "      <td>-1.97%</td>\n",
       "      <td>56853000.0</td>\n",
       "      <td>40283000.0</td>\n",
       "      <td>3.892400e+10</td>\n",
       "    </tr>\n",
       "    <tr>\n",
       "      <th>16</th>\n",
       "      <td>PLTR</td>\n",
       "      <td>Palantir Technologies Inc.</td>\n",
       "      <td>18.98</td>\n",
       "      <td>-0.71</td>\n",
       "      <td>-3.61%</td>\n",
       "      <td>55887000.0</td>\n",
       "      <td>45482000.0</td>\n",
       "      <td>3.947500e+10</td>\n",
       "    </tr>\n",
       "    <tr>\n",
       "      <th>17</th>\n",
       "      <td>BBD</td>\n",
       "      <td>Banco Bradesco S.A.</td>\n",
       "      <td>3.63</td>\n",
       "      <td>-0.04</td>\n",
       "      <td>-1.09%</td>\n",
       "      <td>55560000.0</td>\n",
       "      <td>37722000.0</td>\n",
       "      <td>3.517300e+10</td>\n",
       "    </tr>\n",
       "    <tr>\n",
       "      <th>18</th>\n",
       "      <td>NVDA</td>\n",
       "      <td>NVIDIA Corporation</td>\n",
       "      <td>306.93</td>\n",
       "      <td>-14.33</td>\n",
       "      <td>-4.46%</td>\n",
       "      <td>54433000.0</td>\n",
       "      <td>34301000.0</td>\n",
       "      <td>7.648700e+11</td>\n",
       "    </tr>\n",
       "    <tr>\n",
       "      <th>19</th>\n",
       "      <td>MRVL</td>\n",
       "      <td>Marvell Technology, Inc.</td>\n",
       "      <td>83.59</td>\n",
       "      <td>12.56</td>\n",
       "      <td>+17.68%</td>\n",
       "      <td>51024000.0</td>\n",
       "      <td>6831000.0</td>\n",
       "      <td>6.884700e+10</td>\n",
       "    </tr>\n",
       "    <tr>\n",
       "      <th>20</th>\n",
       "      <td>UBER</td>\n",
       "      <td>Uber Technologies, Inc.</td>\n",
       "      <td>35.85</td>\n",
       "      <td>-2.27</td>\n",
       "      <td>-5.95%</td>\n",
       "      <td>43018000.0</td>\n",
       "      <td>27177000.0</td>\n",
       "      <td>6.955300e+10</td>\n",
       "    </tr>\n",
       "    <tr>\n",
       "      <th>21</th>\n",
       "      <td>PBR</td>\n",
       "      <td>Petróleo Brasileiro S.A. - Petrobras</td>\n",
       "      <td>10.63</td>\n",
       "      <td>0.16</td>\n",
       "      <td>+1.53%</td>\n",
       "      <td>45022000.0</td>\n",
       "      <td>29625000.0</td>\n",
       "      <td>6.933000e+10</td>\n",
       "    </tr>\n",
       "    <tr>\n",
       "      <th>22</th>\n",
       "      <td>VALE</td>\n",
       "      <td>Vale S.A.</td>\n",
       "      <td>12.73</td>\n",
       "      <td>-0.26</td>\n",
       "      <td>-2.00%</td>\n",
       "      <td>43758000.0</td>\n",
       "      <td>38060000.0</td>\n",
       "      <td>6.354500e+10</td>\n",
       "    </tr>\n",
       "    <tr>\n",
       "      <th>23</th>\n",
       "      <td>RLX</td>\n",
       "      <td>RLX Technology Inc.</td>\n",
       "      <td>3.69</td>\n",
       "      <td>-0.74</td>\n",
       "      <td>-16.70%</td>\n",
       "      <td>38329000.0</td>\n",
       "      <td>13210000.0</td>\n",
       "      <td>5.796000e+09</td>\n",
       "    </tr>\n",
       "    <tr>\n",
       "      <th>24</th>\n",
       "      <td>ZNGA</td>\n",
       "      <td>Zynga Inc.</td>\n",
       "      <td>6.11</td>\n",
       "      <td>0.34</td>\n",
       "      <td>+5.89%</td>\n",
       "      <td>38599000.0</td>\n",
       "      <td>22676000.0</td>\n",
       "      <td>6.844000e+09</td>\n",
       "    </tr>\n",
       "  </tbody>\n",
       "</table>\n",
       "</div>"
      ],
      "text/plain": [
       "   Stock Ticker                                    Company Name  \\\n",
       "0          DIDI                                DiDi Global Inc.   \n",
       "1             F                              Ford Motor Company   \n",
       "2          AAPL                                      Apple Inc.   \n",
       "3           NIO                                        NIO Inc.   \n",
       "4          LCID                               Lucid Group, Inc.   \n",
       "5          DOCU                                  DocuSign, Inc.   \n",
       "6          BABA                   Alibaba Group Holding Limited   \n",
       "7             T                                       AT&T Inc.   \n",
       "8           AMC                AMC Entertainment Holdings, Inc.   \n",
       "9           AMD                    Advanced Micro Devices, Inc.   \n",
       "10         SOFI                         SoFi Technologies, Inc.   \n",
       "11          EDU  New Oriental Education & Technology Group Inc.   \n",
       "12          AAL                    American Airlines Group Inc.   \n",
       "13          BAC                     Bank of America Corporation   \n",
       "14          CCL                      Carnival Corporation & plc   \n",
       "15         ITUB                      Itaú Unibanco Holding S.A.   \n",
       "16         PLTR                      Palantir Technologies Inc.   \n",
       "17          BBD                             Banco Bradesco S.A.   \n",
       "18         NVDA                              NVIDIA Corporation   \n",
       "19         MRVL                        Marvell Technology, Inc.   \n",
       "20         UBER                         Uber Technologies, Inc.   \n",
       "21          PBR            Petróleo Brasileiro S.A. - Petrobras   \n",
       "22         VALE                                       Vale S.A.   \n",
       "23          RLX                             RLX Technology Inc.   \n",
       "24         ZNGA                                      Zynga Inc.   \n",
       "\n",
       "    Current Price  Change in Price %age Change in Price  Traded Volume  \\\n",
       "0            6.07            -1.73              -22.18%    120199000.0   \n",
       "1           19.14            -0.73               -3.67%    118193000.0   \n",
       "2          161.84            -1.92               -1.17%    118023000.0   \n",
       "3           32.15            -4.05              -11.19%    105999000.0   \n",
       "4           47.27            -1.14               -2.35%     76441000.0   \n",
       "5          135.09           -98.73              -42.22%     76139000.0   \n",
       "6          111.96           -10.04               -8.23%     68956000.0   \n",
       "7           23.46             0.41               +1.78%     70506000.0   \n",
       "8           29.01            -1.27               -4.19%     65659000.0   \n",
       "9          144.01            -6.67               -4.43%     65910000.0   \n",
       "10          15.19            -1.24               -7.55%     64351000.0   \n",
       "11           1.87            -0.19               -9.22%     61172000.0   \n",
       "12          16.62            -0.80               -4.59%     57884000.0   \n",
       "13          43.87            -1.02               -2.27%     74565000.0   \n",
       "14          17.20            -0.69               -3.86%     59210000.0   \n",
       "15           3.98            -0.08               -1.97%     56853000.0   \n",
       "16          18.98            -0.71               -3.61%     55887000.0   \n",
       "17           3.63            -0.04               -1.09%     55560000.0   \n",
       "18         306.93           -14.33               -4.46%     54433000.0   \n",
       "19          83.59            12.56              +17.68%     51024000.0   \n",
       "20          35.85            -2.27               -5.95%     43018000.0   \n",
       "21          10.63             0.16               +1.53%     45022000.0   \n",
       "22          12.73            -0.26               -2.00%     43758000.0   \n",
       "23           3.69            -0.74              -16.70%     38329000.0   \n",
       "24           6.11             0.34               +5.89%     38599000.0   \n",
       "\n",
       "    Quaterly Volume  Market Capitalization  \n",
       "0        20213000.0           2.927700e+10  \n",
       "1        88128000.0           7.940500e+10  \n",
       "2        83343000.0           2.655000e+12  \n",
       "3        39537000.0           5.113700e+10  \n",
       "4        69175000.0           7.782400e+10  \n",
       "5         3331000.0           2.657500e+10  \n",
       "6        23003000.0           3.323150e+11  \n",
       "7        45004000.0           1.675280e+11  \n",
       "8        46418000.0           1.489200e+10  \n",
       "9        51357000.0           1.739080e+11  \n",
       "10       29670000.0           1.214600e+10  \n",
       "11       39296000.0           3.397000e+09  \n",
       "12       33513000.0           1.076200e+10  \n",
       "13       45859000.0           3.590360e+11  \n",
       "14       34286000.0           2.005100e+10  \n",
       "15       40283000.0           3.892400e+10  \n",
       "16       45482000.0           3.947500e+10  \n",
       "17       37722000.0           3.517300e+10  \n",
       "18       34301000.0           7.648700e+11  \n",
       "19        6831000.0           6.884700e+10  \n",
       "20       27177000.0           6.955300e+10  \n",
       "21       29625000.0           6.933000e+10  \n",
       "22       38060000.0           6.354500e+10  \n",
       "23       13210000.0           5.796000e+09  \n",
       "24       22676000.0           6.844000e+09  "
      ]
     },
     "execution_count": 42,
     "metadata": {},
     "output_type": "execute_result"
    }
   ],
   "source": [
    "us_stock_dataset"
   ]
  },
  {
   "cell_type": "code",
   "execution_count": 43,
   "id": "3e7d267c-6d14-4349-bad0-538218cbe4dd",
   "metadata": {},
   "outputs": [
    {
     "data": {
      "text/html": [
       "<div>\n",
       "<style scoped>\n",
       "    .dataframe tbody tr th:only-of-type {\n",
       "        vertical-align: middle;\n",
       "    }\n",
       "\n",
       "    .dataframe tbody tr th {\n",
       "        vertical-align: top;\n",
       "    }\n",
       "\n",
       "    .dataframe thead th {\n",
       "        text-align: right;\n",
       "    }\n",
       "</style>\n",
       "<table border=\"1\" class=\"dataframe\">\n",
       "  <thead>\n",
       "    <tr style=\"text-align: right;\">\n",
       "      <th></th>\n",
       "      <th>Stock Ticker</th>\n",
       "      <th>Company Name</th>\n",
       "      <th>Current Price</th>\n",
       "      <th>Change in Price</th>\n",
       "      <th>%age Change in Price</th>\n",
       "      <th>Traded Volume</th>\n",
       "      <th>Quaterly Volume</th>\n",
       "      <th>Market Capitalization</th>\n",
       "    </tr>\n",
       "  </thead>\n",
       "  <tbody>\n",
       "    <tr>\n",
       "      <th>20</th>\n",
       "      <td>UBER</td>\n",
       "      <td>Uber Technologies, Inc.</td>\n",
       "      <td>35.85</td>\n",
       "      <td>-2.27</td>\n",
       "      <td>-5.95%</td>\n",
       "      <td>43018000.0</td>\n",
       "      <td>27177000.0</td>\n",
       "      <td>6.955300e+10</td>\n",
       "    </tr>\n",
       "    <tr>\n",
       "      <th>21</th>\n",
       "      <td>PBR</td>\n",
       "      <td>Petróleo Brasileiro S.A. - Petrobras</td>\n",
       "      <td>10.63</td>\n",
       "      <td>0.16</td>\n",
       "      <td>+1.53%</td>\n",
       "      <td>45022000.0</td>\n",
       "      <td>29625000.0</td>\n",
       "      <td>6.933000e+10</td>\n",
       "    </tr>\n",
       "    <tr>\n",
       "      <th>22</th>\n",
       "      <td>VALE</td>\n",
       "      <td>Vale S.A.</td>\n",
       "      <td>12.73</td>\n",
       "      <td>-0.26</td>\n",
       "      <td>-2.00%</td>\n",
       "      <td>43758000.0</td>\n",
       "      <td>38060000.0</td>\n",
       "      <td>6.354500e+10</td>\n",
       "    </tr>\n",
       "    <tr>\n",
       "      <th>23</th>\n",
       "      <td>RLX</td>\n",
       "      <td>RLX Technology Inc.</td>\n",
       "      <td>3.69</td>\n",
       "      <td>-0.74</td>\n",
       "      <td>-16.70%</td>\n",
       "      <td>38329000.0</td>\n",
       "      <td>13210000.0</td>\n",
       "      <td>5.796000e+09</td>\n",
       "    </tr>\n",
       "    <tr>\n",
       "      <th>24</th>\n",
       "      <td>ZNGA</td>\n",
       "      <td>Zynga Inc.</td>\n",
       "      <td>6.11</td>\n",
       "      <td>0.34</td>\n",
       "      <td>+5.89%</td>\n",
       "      <td>38599000.0</td>\n",
       "      <td>22676000.0</td>\n",
       "      <td>6.844000e+09</td>\n",
       "    </tr>\n",
       "  </tbody>\n",
       "</table>\n",
       "</div>"
      ],
      "text/plain": [
       "   Stock Ticker                          Company Name  Current Price  \\\n",
       "20         UBER               Uber Technologies, Inc.          35.85   \n",
       "21          PBR  Petróleo Brasileiro S.A. - Petrobras          10.63   \n",
       "22         VALE                             Vale S.A.          12.73   \n",
       "23          RLX                   RLX Technology Inc.           3.69   \n",
       "24         ZNGA                            Zynga Inc.           6.11   \n",
       "\n",
       "    Change in Price %age Change in Price  Traded Volume  Quaterly Volume  \\\n",
       "20            -2.27               -5.95%     43018000.0       27177000.0   \n",
       "21             0.16               +1.53%     45022000.0       29625000.0   \n",
       "22            -0.26               -2.00%     43758000.0       38060000.0   \n",
       "23            -0.74              -16.70%     38329000.0       13210000.0   \n",
       "24             0.34               +5.89%     38599000.0       22676000.0   \n",
       "\n",
       "    Market Capitalization  \n",
       "20           6.955300e+10  \n",
       "21           6.933000e+10  \n",
       "22           6.354500e+10  \n",
       "23           5.796000e+09  \n",
       "24           6.844000e+09  "
      ]
     },
     "execution_count": 43,
     "metadata": {},
     "output_type": "execute_result"
    }
   ],
   "source": [
    "us_stock_dataset.tail(5)"
   ]
  },
  {
   "cell_type": "code",
   "execution_count": 44,
   "id": "f1e2b29f-6ac1-497c-b3fe-56f6cc3f2b68",
   "metadata": {},
   "outputs": [
    {
     "data": {
      "text/html": [
       "<div>\n",
       "<style scoped>\n",
       "    .dataframe tbody tr th:only-of-type {\n",
       "        vertical-align: middle;\n",
       "    }\n",
       "\n",
       "    .dataframe tbody tr th {\n",
       "        vertical-align: top;\n",
       "    }\n",
       "\n",
       "    .dataframe thead th {\n",
       "        text-align: right;\n",
       "    }\n",
       "</style>\n",
       "<table border=\"1\" class=\"dataframe\">\n",
       "  <thead>\n",
       "    <tr style=\"text-align: right;\">\n",
       "      <th></th>\n",
       "      <th>Stock Ticker</th>\n",
       "      <th>Company Name</th>\n",
       "      <th>Current Price</th>\n",
       "      <th>Change in Price</th>\n",
       "      <th>%age Change in Price</th>\n",
       "      <th>Traded Volume</th>\n",
       "      <th>Quaterly Volume</th>\n",
       "      <th>Market Capitalization</th>\n",
       "    </tr>\n",
       "  </thead>\n",
       "  <tbody>\n",
       "    <tr>\n",
       "      <th>0</th>\n",
       "      <td>DIDI</td>\n",
       "      <td>DiDi Global Inc.</td>\n",
       "      <td>6.07</td>\n",
       "      <td>-1.73</td>\n",
       "      <td>-22.18%</td>\n",
       "      <td>120199000.0</td>\n",
       "      <td>20213000.0</td>\n",
       "      <td>2.927700e+10</td>\n",
       "    </tr>\n",
       "    <tr>\n",
       "      <th>1</th>\n",
       "      <td>F</td>\n",
       "      <td>Ford Motor Company</td>\n",
       "      <td>19.14</td>\n",
       "      <td>-0.73</td>\n",
       "      <td>-3.67%</td>\n",
       "      <td>118193000.0</td>\n",
       "      <td>88128000.0</td>\n",
       "      <td>7.940500e+10</td>\n",
       "    </tr>\n",
       "    <tr>\n",
       "      <th>2</th>\n",
       "      <td>AAPL</td>\n",
       "      <td>Apple Inc.</td>\n",
       "      <td>161.84</td>\n",
       "      <td>-1.92</td>\n",
       "      <td>-1.17%</td>\n",
       "      <td>118023000.0</td>\n",
       "      <td>83343000.0</td>\n",
       "      <td>2.655000e+12</td>\n",
       "    </tr>\n",
       "    <tr>\n",
       "      <th>3</th>\n",
       "      <td>NIO</td>\n",
       "      <td>NIO Inc.</td>\n",
       "      <td>32.15</td>\n",
       "      <td>-4.05</td>\n",
       "      <td>-11.19%</td>\n",
       "      <td>105999000.0</td>\n",
       "      <td>39537000.0</td>\n",
       "      <td>5.113700e+10</td>\n",
       "    </tr>\n",
       "    <tr>\n",
       "      <th>4</th>\n",
       "      <td>LCID</td>\n",
       "      <td>Lucid Group, Inc.</td>\n",
       "      <td>47.27</td>\n",
       "      <td>-1.14</td>\n",
       "      <td>-2.35%</td>\n",
       "      <td>76441000.0</td>\n",
       "      <td>69175000.0</td>\n",
       "      <td>7.782400e+10</td>\n",
       "    </tr>\n",
       "    <tr>\n",
       "      <th>5</th>\n",
       "      <td>DOCU</td>\n",
       "      <td>DocuSign, Inc.</td>\n",
       "      <td>135.09</td>\n",
       "      <td>-98.73</td>\n",
       "      <td>-42.22%</td>\n",
       "      <td>76139000.0</td>\n",
       "      <td>3331000.0</td>\n",
       "      <td>2.657500e+10</td>\n",
       "    </tr>\n",
       "    <tr>\n",
       "      <th>6</th>\n",
       "      <td>BABA</td>\n",
       "      <td>Alibaba Group Holding Limited</td>\n",
       "      <td>111.96</td>\n",
       "      <td>-10.04</td>\n",
       "      <td>-8.23%</td>\n",
       "      <td>68956000.0</td>\n",
       "      <td>23003000.0</td>\n",
       "      <td>3.323150e+11</td>\n",
       "    </tr>\n",
       "    <tr>\n",
       "      <th>7</th>\n",
       "      <td>T</td>\n",
       "      <td>AT&amp;T Inc.</td>\n",
       "      <td>23.46</td>\n",
       "      <td>0.41</td>\n",
       "      <td>+1.78%</td>\n",
       "      <td>70506000.0</td>\n",
       "      <td>45004000.0</td>\n",
       "      <td>1.675280e+11</td>\n",
       "    </tr>\n",
       "  </tbody>\n",
       "</table>\n",
       "</div>"
      ],
      "text/plain": [
       "  Stock Ticker                   Company Name  Current Price  Change in Price  \\\n",
       "0         DIDI               DiDi Global Inc.           6.07            -1.73   \n",
       "1            F             Ford Motor Company          19.14            -0.73   \n",
       "2         AAPL                     Apple Inc.         161.84            -1.92   \n",
       "3          NIO                       NIO Inc.          32.15            -4.05   \n",
       "4         LCID              Lucid Group, Inc.          47.27            -1.14   \n",
       "5         DOCU                 DocuSign, Inc.         135.09           -98.73   \n",
       "6         BABA  Alibaba Group Holding Limited         111.96           -10.04   \n",
       "7            T                      AT&T Inc.          23.46             0.41   \n",
       "\n",
       "  %age Change in Price  Traded Volume  Quaterly Volume  Market Capitalization  \n",
       "0              -22.18%    120199000.0       20213000.0           2.927700e+10  \n",
       "1               -3.67%    118193000.0       88128000.0           7.940500e+10  \n",
       "2               -1.17%    118023000.0       83343000.0           2.655000e+12  \n",
       "3              -11.19%    105999000.0       39537000.0           5.113700e+10  \n",
       "4               -2.35%     76441000.0       69175000.0           7.782400e+10  \n",
       "5              -42.22%     76139000.0        3331000.0           2.657500e+10  \n",
       "6               -8.23%     68956000.0       23003000.0           3.323150e+11  \n",
       "7               +1.78%     70506000.0       45004000.0           1.675280e+11  "
      ]
     },
     "execution_count": 44,
     "metadata": {},
     "output_type": "execute_result"
    }
   ],
   "source": [
    "us_stock_dataset.head(8)"
   ]
  },
  {
   "cell_type": "code",
   "execution_count": 45,
   "id": "71cf6489-98e9-4632-beeb-410781a0a4dd",
   "metadata": {},
   "outputs": [],
   "source": [
    "us_stock_dataset.to_csv('us_stocks.csv', header=False, index=False)"
   ]
  },
  {
   "cell_type": "code",
   "execution_count": 46,
   "id": "73696d99-7b81-4710-8e02-4e7224526dbb",
   "metadata": {},
   "outputs": [
    {
     "name": "stdout",
     "output_type": "stream",
     "text": [
      "<class 'pandas.core.frame.DataFrame'>\n",
      "RangeIndex: 25 entries, 0 to 24\n",
      "Data columns (total 8 columns):\n",
      " #   Column                 Non-Null Count  Dtype  \n",
      "---  ------                 --------------  -----  \n",
      " 0   Stock Ticker           25 non-null     object \n",
      " 1   Company Name           25 non-null     object \n",
      " 2   Current Price          25 non-null     float64\n",
      " 3   Change in Price        25 non-null     float64\n",
      " 4   %age Change in Price   25 non-null     object \n",
      " 5   Traded Volume          25 non-null     float64\n",
      " 6   Quaterly Volume        25 non-null     float64\n",
      " 7   Market Capitalization  25 non-null     float64\n",
      "dtypes: float64(5), object(3)\n",
      "memory usage: 1.7+ KB\n"
     ]
    }
   ],
   "source": [
    "us_stock_dataset.info()"
   ]
  },
  {
   "cell_type": "code",
   "execution_count": null,
   "id": "96f3688f-9c77-467e-88b5-b1952302e405",
   "metadata": {},
   "outputs": [],
   "source": []
  },
  {
   "cell_type": "code",
   "execution_count": 47,
   "id": "587c56e2-a9e3-4eac-8f2d-6cdac347cb7a",
   "metadata": {},
   "outputs": [],
   "source": [
    "df = us_stock_dataset['Current Price'].sum()"
   ]
  },
  {
   "cell_type": "code",
   "execution_count": 48,
   "id": "ca12eb9c-d0cb-4e4e-be7d-01a99313f137",
   "metadata": {},
   "outputs": [
    {
     "data": {
      "text/plain": [
       "1290.8700000000001"
      ]
     },
     "execution_count": 48,
     "metadata": {},
     "output_type": "execute_result"
    }
   ],
   "source": [
    "df"
   ]
  },
  {
   "cell_type": "code",
   "execution_count": 50,
   "id": "79690c63-0a34-4a7e-a326-1cef5c15364a",
   "metadata": {},
   "outputs": [],
   "source": [
    "mean_df = us_stock_dataset['Current Price'].mean()"
   ]
  },
  {
   "cell_type": "code",
   "execution_count": 51,
   "id": "4305ef41-3c2a-4fc9-88d6-812ccb4b4769",
   "metadata": {},
   "outputs": [
    {
     "data": {
      "text/plain": [
       "51.634800000000006"
      ]
     },
     "execution_count": 51,
     "metadata": {},
     "output_type": "execute_result"
    }
   ],
   "source": [
    "mean_df"
   ]
  },
  {
   "cell_type": "code",
   "execution_count": null,
   "id": "0d9e519a-ed36-473f-bb85-d5125bf3ec17",
   "metadata": {},
   "outputs": [],
   "source": []
  }
 ],
 "metadata": {
  "kernelspec": {
   "display_name": "Python 3",
   "language": "python",
   "name": "python3"
  },
  "language_info": {
   "codemirror_mode": {
    "name": "ipython",
    "version": 3
   },
   "file_extension": ".py",
   "mimetype": "text/x-python",
   "name": "python",
   "nbconvert_exporter": "python",
   "pygments_lexer": "ipython3",
   "version": "3.9.5"
  }
 },
 "nbformat": 4,
 "nbformat_minor": 5
}
